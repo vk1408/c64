{
 "cells": [
  {
   "cell_type": "markdown",
   "id": "e90fa811-30c9-4a1a-ab0e-1b4eb15c5e50",
   "metadata": {},
   "source": [
    "# 0-Notes"
   ]
  },
  {
   "cell_type": "code",
   "execution_count": null,
   "id": "c6d05c3f-9df4-4bf7-b840-ee5b747f563c",
   "metadata": {},
   "outputs": [],
   "source": [
    "# Notes:\n",
    "# Model parameters to variate:\n",
    "#     1. Data split proportion\n",
    "#     2. Normalized/not normalized\n",
    "#     3. Modell specific parameters\n",
    "# Parameters to measure:\n",
    "#     1. Accuracy, Recall, Precision, Specificity\n",
    "# Add Recall, Precision, Specificity to model_check()"
   ]
  },
  {
   "cell_type": "markdown",
   "id": "4a827a4a-c0f1-463d-a02a-549aaa4e11b7",
   "metadata": {},
   "source": [
    "# 1-Data preparation"
   ]
  },
  {
   "cell_type": "markdown",
   "id": "4d46ebb1-7a08-4fab-a20f-2d9bfba72a7a",
   "metadata": {},
   "source": [
    "## 1-1-Import data"
   ]
  },
  {
   "cell_type": "code",
   "execution_count": 212,
   "id": "cd5e962d-9d65-4702-b80d-3d410875bfeb",
   "metadata": {},
   "outputs": [],
   "source": [
    "import pandas as pd"
   ]
  },
  {
   "cell_type": "code",
   "execution_count": 213,
   "id": "f45c931b-4f51-4b6f-a795-7a653fff2002",
   "metadata": {},
   "outputs": [
    {
     "data": {
      "text/html": [
       "<div>\n",
       "<style scoped>\n",
       "    .dataframe tbody tr th:only-of-type {\n",
       "        vertical-align: middle;\n",
       "    }\n",
       "\n",
       "    .dataframe tbody tr th {\n",
       "        vertical-align: top;\n",
       "    }\n",
       "\n",
       "    .dataframe thead th {\n",
       "        text-align: right;\n",
       "    }\n",
       "</style>\n",
       "<table border=\"1\" class=\"dataframe\">\n",
       "  <thead>\n",
       "    <tr style=\"text-align: right;\">\n",
       "      <th></th>\n",
       "      <th>f1</th>\n",
       "      <th>f2</th>\n",
       "      <th>f3</th>\n",
       "      <th>f4</th>\n",
       "      <th>f5</th>\n",
       "      <th>f6</th>\n",
       "      <th>f7</th>\n",
       "      <th>f8</th>\n",
       "      <th>f9</th>\n",
       "      <th>f10</th>\n",
       "      <th>...</th>\n",
       "      <th>f92</th>\n",
       "      <th>f93</th>\n",
       "      <th>f94</th>\n",
       "      <th>f95</th>\n",
       "      <th>f96</th>\n",
       "      <th>f97</th>\n",
       "      <th>f98</th>\n",
       "      <th>f99</th>\n",
       "      <th>f100</th>\n",
       "      <th>loss</th>\n",
       "    </tr>\n",
       "    <tr>\n",
       "      <th>id</th>\n",
       "      <th></th>\n",
       "      <th></th>\n",
       "      <th></th>\n",
       "      <th></th>\n",
       "      <th></th>\n",
       "      <th></th>\n",
       "      <th></th>\n",
       "      <th></th>\n",
       "      <th></th>\n",
       "      <th></th>\n",
       "      <th></th>\n",
       "      <th></th>\n",
       "      <th></th>\n",
       "      <th></th>\n",
       "      <th></th>\n",
       "      <th></th>\n",
       "      <th></th>\n",
       "      <th></th>\n",
       "      <th></th>\n",
       "      <th></th>\n",
       "      <th></th>\n",
       "    </tr>\n",
       "  </thead>\n",
       "  <tbody>\n",
       "    <tr>\n",
       "      <th>1</th>\n",
       "      <td>126</td>\n",
       "      <td>10</td>\n",
       "      <td>0.686842</td>\n",
       "      <td>1100</td>\n",
       "      <td>3</td>\n",
       "      <td>13699</td>\n",
       "      <td>7201.0</td>\n",
       "      <td>4949.0</td>\n",
       "      <td>126.75</td>\n",
       "      <td>126.03</td>\n",
       "      <td>...</td>\n",
       "      <td>0.15</td>\n",
       "      <td>0.01</td>\n",
       "      <td>0.12</td>\n",
       "      <td>851.0</td>\n",
       "      <td>851.0</td>\n",
       "      <td>851.0</td>\n",
       "      <td>851.0</td>\n",
       "      <td>0.32</td>\n",
       "      <td>1.34</td>\n",
       "      <td>0</td>\n",
       "    </tr>\n",
       "    <tr>\n",
       "      <th>2</th>\n",
       "      <td>121</td>\n",
       "      <td>10</td>\n",
       "      <td>0.782776</td>\n",
       "      <td>1100</td>\n",
       "      <td>3</td>\n",
       "      <td>84645</td>\n",
       "      <td>240.0</td>\n",
       "      <td>1625.0</td>\n",
       "      <td>123.52</td>\n",
       "      <td>121.35</td>\n",
       "      <td>...</td>\n",
       "      <td>0.29</td>\n",
       "      <td>0.09</td>\n",
       "      <td>0.08</td>\n",
       "      <td>20.0</td>\n",
       "      <td>20.0</td>\n",
       "      <td>20.0</td>\n",
       "      <td>20.0</td>\n",
       "      <td>0.28</td>\n",
       "      <td>1.43</td>\n",
       "      <td>0</td>\n",
       "    </tr>\n",
       "    <tr>\n",
       "      <th>3</th>\n",
       "      <td>126</td>\n",
       "      <td>10</td>\n",
       "      <td>0.500080</td>\n",
       "      <td>1100</td>\n",
       "      <td>3</td>\n",
       "      <td>83607</td>\n",
       "      <td>1800.0</td>\n",
       "      <td>1527.0</td>\n",
       "      <td>127.76</td>\n",
       "      <td>126.49</td>\n",
       "      <td>...</td>\n",
       "      <td>0.01</td>\n",
       "      <td>0.00</td>\n",
       "      <td>0.07</td>\n",
       "      <td>124.0</td>\n",
       "      <td>124.0</td>\n",
       "      <td>124.0</td>\n",
       "      <td>124.0</td>\n",
       "      <td>0.25</td>\n",
       "      <td>1.52</td>\n",
       "      <td>0</td>\n",
       "    </tr>\n",
       "    <tr>\n",
       "      <th>4</th>\n",
       "      <td>134</td>\n",
       "      <td>10</td>\n",
       "      <td>0.439874</td>\n",
       "      <td>1100</td>\n",
       "      <td>3</td>\n",
       "      <td>82642</td>\n",
       "      <td>7542.0</td>\n",
       "      <td>1730.0</td>\n",
       "      <td>132.94</td>\n",
       "      <td>133.58</td>\n",
       "      <td>...</td>\n",
       "      <td>0.01</td>\n",
       "      <td>0.00</td>\n",
       "      <td>0.12</td>\n",
       "      <td>903.0</td>\n",
       "      <td>903.0</td>\n",
       "      <td>903.0</td>\n",
       "      <td>903.0</td>\n",
       "      <td>0.32</td>\n",
       "      <td>1.35</td>\n",
       "      <td>0</td>\n",
       "    </tr>\n",
       "    <tr>\n",
       "      <th>5</th>\n",
       "      <td>109</td>\n",
       "      <td>9</td>\n",
       "      <td>0.502749</td>\n",
       "      <td>2900</td>\n",
       "      <td>4</td>\n",
       "      <td>79124</td>\n",
       "      <td>89.0</td>\n",
       "      <td>491.0</td>\n",
       "      <td>122.72</td>\n",
       "      <td>112.77</td>\n",
       "      <td>...</td>\n",
       "      <td>0.51</td>\n",
       "      <td>0.90</td>\n",
       "      <td>0.06</td>\n",
       "      <td>5.0</td>\n",
       "      <td>5.0</td>\n",
       "      <td>5.0</td>\n",
       "      <td>5.0</td>\n",
       "      <td>0.23</td>\n",
       "      <td>1.56</td>\n",
       "      <td>0</td>\n",
       "    </tr>\n",
       "    <tr>\n",
       "      <th>...</th>\n",
       "      <td>...</td>\n",
       "      <td>...</td>\n",
       "      <td>...</td>\n",
       "      <td>...</td>\n",
       "      <td>...</td>\n",
       "      <td>...</td>\n",
       "      <td>...</td>\n",
       "      <td>...</td>\n",
       "      <td>...</td>\n",
       "      <td>...</td>\n",
       "      <td>...</td>\n",
       "      <td>...</td>\n",
       "      <td>...</td>\n",
       "      <td>...</td>\n",
       "      <td>...</td>\n",
       "      <td>...</td>\n",
       "      <td>...</td>\n",
       "      <td>...</td>\n",
       "      <td>...</td>\n",
       "      <td>...</td>\n",
       "      <td>...</td>\n",
       "    </tr>\n",
       "    <tr>\n",
       "      <th>79996</th>\n",
       "      <td>117</td>\n",
       "      <td>8</td>\n",
       "      <td>0.071314</td>\n",
       "      <td>1300</td>\n",
       "      <td>4</td>\n",
       "      <td>76831</td>\n",
       "      <td>4614.0</td>\n",
       "      <td>3102.0</td>\n",
       "      <td>120.50</td>\n",
       "      <td>117.52</td>\n",
       "      <td>...</td>\n",
       "      <td>0.26</td>\n",
       "      <td>0.09</td>\n",
       "      <td>0.09</td>\n",
       "      <td>422.0</td>\n",
       "      <td>422.0</td>\n",
       "      <td>422.0</td>\n",
       "      <td>422.0</td>\n",
       "      <td>0.29</td>\n",
       "      <td>1.41</td>\n",
       "      <td>0</td>\n",
       "    </tr>\n",
       "    <tr>\n",
       "      <th>79997</th>\n",
       "      <td>125</td>\n",
       "      <td>8</td>\n",
       "      <td>0.793560</td>\n",
       "      <td>1300</td>\n",
       "      <td>4</td>\n",
       "      <td>83549</td>\n",
       "      <td>1205.0</td>\n",
       "      <td>2950.0</td>\n",
       "      <td>124.11</td>\n",
       "      <td>124.77</td>\n",
       "      <td>...</td>\n",
       "      <td>0.03</td>\n",
       "      <td>0.00</td>\n",
       "      <td>0.10</td>\n",
       "      <td>117.0</td>\n",
       "      <td>117.0</td>\n",
       "      <td>117.0</td>\n",
       "      <td>117.0</td>\n",
       "      <td>0.30</td>\n",
       "      <td>1.37</td>\n",
       "      <td>0</td>\n",
       "    </tr>\n",
       "    <tr>\n",
       "      <th>79998</th>\n",
       "      <td>120</td>\n",
       "      <td>8</td>\n",
       "      <td>0.081656</td>\n",
       "      <td>1300</td>\n",
       "      <td>4</td>\n",
       "      <td>2572</td>\n",
       "      <td>6943.0</td>\n",
       "      <td>3734.0</td>\n",
       "      <td>122.16</td>\n",
       "      <td>120.45</td>\n",
       "      <td>...</td>\n",
       "      <td>0.08</td>\n",
       "      <td>0.00</td>\n",
       "      <td>0.10</td>\n",
       "      <td>671.0</td>\n",
       "      <td>671.0</td>\n",
       "      <td>671.0</td>\n",
       "      <td>671.0</td>\n",
       "      <td>0.30</td>\n",
       "      <td>1.37</td>\n",
       "      <td>0</td>\n",
       "    </tr>\n",
       "    <tr>\n",
       "      <th>79999</th>\n",
       "      <td>125</td>\n",
       "      <td>8</td>\n",
       "      <td>0.600110</td>\n",
       "      <td>1500</td>\n",
       "      <td>4</td>\n",
       "      <td>12421</td>\n",
       "      <td>4194.0</td>\n",
       "      <td>815.0</td>\n",
       "      <td>125.50</td>\n",
       "      <td>125.03</td>\n",
       "      <td>...</td>\n",
       "      <td>0.02</td>\n",
       "      <td>0.00</td>\n",
       "      <td>0.08</td>\n",
       "      <td>343.0</td>\n",
       "      <td>343.0</td>\n",
       "      <td>343.0</td>\n",
       "      <td>343.0</td>\n",
       "      <td>0.27</td>\n",
       "      <td>1.48</td>\n",
       "      <td>0</td>\n",
       "    </tr>\n",
       "    <tr>\n",
       "      <th>80000</th>\n",
       "      <td>130</td>\n",
       "      <td>8</td>\n",
       "      <td>0.353588</td>\n",
       "      <td>1500</td>\n",
       "      <td>4</td>\n",
       "      <td>14629</td>\n",
       "      <td>7818.0</td>\n",
       "      <td>2583.0</td>\n",
       "      <td>128.91</td>\n",
       "      <td>129.72</td>\n",
       "      <td>...</td>\n",
       "      <td>0.01</td>\n",
       "      <td>0.00</td>\n",
       "      <td>0.10</td>\n",
       "      <td>787.0</td>\n",
       "      <td>787.0</td>\n",
       "      <td>787.0</td>\n",
       "      <td>787.0</td>\n",
       "      <td>0.30</td>\n",
       "      <td>1.39</td>\n",
       "      <td>9</td>\n",
       "    </tr>\n",
       "  </tbody>\n",
       "</table>\n",
       "<p>80000 rows × 99 columns</p>\n",
       "</div>"
      ],
      "text/plain": [
       "        f1  f2        f3    f4  f5     f6      f7      f8      f9     f10  \\\n",
       "id                                                                          \n",
       "1      126  10  0.686842  1100   3  13699  7201.0  4949.0  126.75  126.03   \n",
       "2      121  10  0.782776  1100   3  84645   240.0  1625.0  123.52  121.35   \n",
       "3      126  10  0.500080  1100   3  83607  1800.0  1527.0  127.76  126.49   \n",
       "4      134  10  0.439874  1100   3  82642  7542.0  1730.0  132.94  133.58   \n",
       "5      109   9  0.502749  2900   4  79124    89.0   491.0  122.72  112.77   \n",
       "...    ...  ..       ...   ...  ..    ...     ...     ...     ...     ...   \n",
       "79996  117   8  0.071314  1300   4  76831  4614.0  3102.0  120.50  117.52   \n",
       "79997  125   8  0.793560  1300   4  83549  1205.0  2950.0  124.11  124.77   \n",
       "79998  120   8  0.081656  1300   4   2572  6943.0  3734.0  122.16  120.45   \n",
       "79999  125   8  0.600110  1500   4  12421  4194.0   815.0  125.50  125.03   \n",
       "80000  130   8  0.353588  1500   4  14629  7818.0  2583.0  128.91  129.72   \n",
       "\n",
       "       ...   f92   f93   f94    f95    f96    f97    f98   f99  f100  loss  \n",
       "id     ...                                                                  \n",
       "1      ...  0.15  0.01  0.12  851.0  851.0  851.0  851.0  0.32  1.34     0  \n",
       "2      ...  0.29  0.09  0.08   20.0   20.0   20.0   20.0  0.28  1.43     0  \n",
       "3      ...  0.01  0.00  0.07  124.0  124.0  124.0  124.0  0.25  1.52     0  \n",
       "4      ...  0.01  0.00  0.12  903.0  903.0  903.0  903.0  0.32  1.35     0  \n",
       "5      ...  0.51  0.90  0.06    5.0    5.0    5.0    5.0  0.23  1.56     0  \n",
       "...    ...   ...   ...   ...    ...    ...    ...    ...   ...   ...   ...  \n",
       "79996  ...  0.26  0.09  0.09  422.0  422.0  422.0  422.0  0.29  1.41     0  \n",
       "79997  ...  0.03  0.00  0.10  117.0  117.0  117.0  117.0  0.30  1.37     0  \n",
       "79998  ...  0.08  0.00  0.10  671.0  671.0  671.0  671.0  0.30  1.37     0  \n",
       "79999  ...  0.02  0.00  0.08  343.0  343.0  343.0  343.0  0.27  1.48     0  \n",
       "80000  ...  0.01  0.00  0.10  787.0  787.0  787.0  787.0  0.30  1.39     9  \n",
       "\n",
       "[80000 rows x 99 columns]"
      ]
     },
     "execution_count": 213,
     "metadata": {},
     "output_type": "execute_result"
    }
   ],
   "source": [
    "data = pd.read_csv('loan-default-iter2.csv', index_col='id')\n",
    "data"
   ]
  },
  {
   "cell_type": "markdown",
   "id": "48bc6467-d45a-4af2-948d-d9547b53d14e",
   "metadata": {},
   "source": [
    "## 1-2-create category paid/not paid"
   ]
  },
  {
   "cell_type": "code",
   "execution_count": 214,
   "id": "533468aa-27be-46af-a484-c450351ebaea",
   "metadata": {},
   "outputs": [],
   "source": [
    "# function : paid/not paid based on loss\n",
    "def convert_to_categorical(col): \n",
    "    if col == 0: \n",
    "        return 'paid' \n",
    "    else: \n",
    "        return 'not paid'\n",
    "data['target'] = data['loss'].apply(convert_to_categorical)"
   ]
  },
  {
   "cell_type": "code",
   "execution_count": 215,
   "id": "118eab60-f87c-4f80-bfa9-21ceda49ea2a",
   "metadata": {},
   "outputs": [
    {
     "data": {
      "text/plain": [
       "paid        72703\n",
       "not paid     7297\n",
       "Name: target, dtype: int64"
      ]
     },
     "execution_count": 215,
     "metadata": {},
     "output_type": "execute_result"
    }
   ],
   "source": [
    "import numpy as np\n",
    "data['target'] = data['loss'].apply(convert_to_categorical)\n",
    "data.target.value_counts()\n",
    "# too many paid! not good for training the model!"
   ]
  },
  {
   "cell_type": "markdown",
   "id": "68ec4f65-b71c-4733-9b69-077405ed8ae9",
   "metadata": {},
   "source": [
    "## 1-3-Drop columns with all zeros"
   ]
  },
  {
   "cell_type": "code",
   "execution_count": 216,
   "id": "a80f3f5f-ad04-457e-8b16-c11c3540570f",
   "metadata": {
    "scrolled": true,
    "tags": []
   },
   "outputs": [
    {
     "data": {
      "text/plain": [
       "{'f1': False,\n",
       " 'f2': False,\n",
       " 'f3': False,\n",
       " 'f4': False,\n",
       " 'f5': False,\n",
       " 'f6': False,\n",
       " 'f7': False,\n",
       " 'f8': False,\n",
       " 'f9': False,\n",
       " 'f10': False,\n",
       " 'f13': False,\n",
       " 'f14': False,\n",
       " 'f15': False,\n",
       " 'f16': False,\n",
       " 'f17': False,\n",
       " 'f18': False,\n",
       " 'f19': False,\n",
       " 'f20': False,\n",
       " 'f21': False,\n",
       " 'f22': False,\n",
       " 'f23': False,\n",
       " 'f24': False,\n",
       " 'f25': False,\n",
       " 'f26': False,\n",
       " 'f27': False,\n",
       " 'f28': False,\n",
       " 'f29': False,\n",
       " 'f30': False,\n",
       " 'f31': False,\n",
       " 'f32': False,\n",
       " 'f33': True,\n",
       " 'f34': True,\n",
       " 'f35': True,\n",
       " 'f36': False,\n",
       " 'f37': True,\n",
       " 'f38': True,\n",
       " 'f39': False,\n",
       " 'f40': False,\n",
       " 'f41': False,\n",
       " 'f42': False,\n",
       " 'f43': False,\n",
       " 'f44': False,\n",
       " 'f45': False,\n",
       " 'f46': False,\n",
       " 'f47': False,\n",
       " 'f48': False,\n",
       " 'f49': False,\n",
       " 'f50': False,\n",
       " 'f51': False,\n",
       " 'f52': False,\n",
       " 'f53': False,\n",
       " 'f54': False,\n",
       " 'f55': False,\n",
       " 'f56': False,\n",
       " 'f57': False,\n",
       " 'f58': False,\n",
       " 'f59': False,\n",
       " 'f60': False,\n",
       " 'f61': False,\n",
       " 'f62': False,\n",
       " 'f63': False,\n",
       " 'f64': False,\n",
       " 'f65': False,\n",
       " 'f66': False,\n",
       " 'f67': False,\n",
       " 'f68': False,\n",
       " 'f69': False,\n",
       " 'f70': False,\n",
       " 'f71': False,\n",
       " 'f72': False,\n",
       " 'f73': False,\n",
       " 'f74': False,\n",
       " 'f75': False,\n",
       " 'f76': False,\n",
       " 'f77': False,\n",
       " 'f78': False,\n",
       " 'f79': False,\n",
       " 'f80': False,\n",
       " 'f81': False,\n",
       " 'f82': False,\n",
       " 'f83': False,\n",
       " 'f84': False,\n",
       " 'f85': False,\n",
       " 'f86': False,\n",
       " 'f87': False,\n",
       " 'f88': False,\n",
       " 'f89': False,\n",
       " 'f90': False,\n",
       " 'f91': False,\n",
       " 'f92': False,\n",
       " 'f93': False,\n",
       " 'f94': False,\n",
       " 'f95': False,\n",
       " 'f96': False,\n",
       " 'f97': False,\n",
       " 'f98': False,\n",
       " 'f99': False,\n",
       " 'f100': False}"
      ]
     },
     "execution_count": 216,
     "metadata": {},
     "output_type": "execute_result"
    }
   ],
   "source": [
    "# check columns with all zeros\n",
    "is_filled_with_0 ={}\n",
    "for column in data.columns[0:-2]:\n",
    "    is_filled_with_0.update({column:data[data[column]==0].shape[0] == len(data)})\n",
    "is_filled_with_0"
   ]
  },
  {
   "cell_type": "code",
   "execution_count": 217,
   "id": "4d92da75-9cae-4050-af0f-561704e8d792",
   "metadata": {},
   "outputs": [],
   "source": [
    "# drop columns with all zeros\n",
    "for key in is_filled_with_0.keys():\n",
    "    if is_filled_with_0[key] == True:\n",
    "        data.drop(key,axis=1,inplace=True)"
   ]
  },
  {
   "cell_type": "markdown",
   "id": "bb6b070b-8c92-4727-9da7-cf05630abc25",
   "metadata": {},
   "source": [
    "## 1-4-Drop columns with too many zeros(>70%)"
   ]
  },
  {
   "cell_type": "code",
   "execution_count": 218,
   "id": "e519bf74-448b-487d-9ce3-7d96b568c777",
   "metadata": {
    "scrolled": true,
    "tags": []
   },
   "outputs": [
    {
     "data": {
      "text/plain": [
       "f83    73.85000\n",
       "f93    73.64875\n",
       "f70    11.07000\n",
       "f69    10.23250\n",
       "f30    10.03625\n",
       "f29    10.03625\n",
       "f27    10.03625\n",
       "f24    10.03625\n",
       "f28    10.03625\n",
       "f18    10.00750\n",
       "f15     9.98125\n",
       "f14     9.92500\n",
       "f17     9.88500\n",
       "f20     9.57625\n",
       "f25     8.79875\n",
       "f22     8.67625\n",
       "f21     8.47500\n",
       "f32     4.96750\n",
       "f72     2.60500\n",
       "f40     2.09875\n",
       "f50     1.91125\n",
       "f89     1.49625\n",
       "f87     1.49250\n",
       "f84     1.49250\n",
       "f85     1.49250\n",
       "f86     1.49250\n",
       "f88     1.49250\n",
       "f99     1.39250\n",
       "f94     1.38250\n",
       "f97     1.38250\n",
       "dtype: float64"
      ]
     },
     "execution_count": 218,
     "metadata": {},
     "output_type": "execute_result"
    }
   ],
   "source": [
    "# check null values, % in each column\n",
    "null_values = (data.iloc[:,0:-2] == 0).sum(axis=0)/data.shape[0]*100\n",
    "null_values.sort_values(ascending=False).head(30)"
   ]
  },
  {
   "cell_type": "code",
   "execution_count": 219,
   "id": "e784004e-2b5a-45a4-a9ef-2cf4fdf5d07a",
   "metadata": {},
   "outputs": [],
   "source": [
    "# drop columns f83, f93 - too many zeros\n",
    "data.drop(['f83','f93'],axis=1,inplace=True)"
   ]
  },
  {
   "cell_type": "markdown",
   "id": "ff59cf7f-f765-4eb7-9084-14ce4293457b",
   "metadata": {},
   "source": [
    "## 1-5-Drop duplicates"
   ]
  },
  {
   "cell_type": "code",
   "execution_count": 220,
   "id": "a2f6333f-15ee-4377-97ce-32c1ec846ec0",
   "metadata": {
    "scrolled": true,
    "tags": []
   },
   "outputs": [
    {
     "data": {
      "text/html": [
       "<div>\n",
       "<style scoped>\n",
       "    .dataframe tbody tr th:only-of-type {\n",
       "        vertical-align: middle;\n",
       "    }\n",
       "\n",
       "    .dataframe tbody tr th {\n",
       "        vertical-align: top;\n",
       "    }\n",
       "\n",
       "    .dataframe thead th {\n",
       "        text-align: right;\n",
       "    }\n",
       "</style>\n",
       "<table border=\"1\" class=\"dataframe\">\n",
       "  <thead>\n",
       "    <tr style=\"text-align: right;\">\n",
       "      <th></th>\n",
       "      <th>f1</th>\n",
       "      <th>f2</th>\n",
       "      <th>f3</th>\n",
       "      <th>f4</th>\n",
       "      <th>f5</th>\n",
       "      <th>f6</th>\n",
       "      <th>f7</th>\n",
       "      <th>f8</th>\n",
       "      <th>f9</th>\n",
       "      <th>f10</th>\n",
       "      <th>...</th>\n",
       "      <th>f92</th>\n",
       "      <th>f94</th>\n",
       "      <th>f95</th>\n",
       "      <th>f96</th>\n",
       "      <th>f97</th>\n",
       "      <th>f98</th>\n",
       "      <th>f99</th>\n",
       "      <th>f100</th>\n",
       "      <th>loss</th>\n",
       "      <th>target</th>\n",
       "    </tr>\n",
       "    <tr>\n",
       "      <th>id</th>\n",
       "      <th></th>\n",
       "      <th></th>\n",
       "      <th></th>\n",
       "      <th></th>\n",
       "      <th></th>\n",
       "      <th></th>\n",
       "      <th></th>\n",
       "      <th></th>\n",
       "      <th></th>\n",
       "      <th></th>\n",
       "      <th></th>\n",
       "      <th></th>\n",
       "      <th></th>\n",
       "      <th></th>\n",
       "      <th></th>\n",
       "      <th></th>\n",
       "      <th></th>\n",
       "      <th></th>\n",
       "      <th></th>\n",
       "      <th></th>\n",
       "      <th></th>\n",
       "    </tr>\n",
       "  </thead>\n",
       "  <tbody>\n",
       "    <tr>\n",
       "      <th>1</th>\n",
       "      <td>126</td>\n",
       "      <td>10</td>\n",
       "      <td>0.686842</td>\n",
       "      <td>1100</td>\n",
       "      <td>3</td>\n",
       "      <td>13699</td>\n",
       "      <td>7201.0</td>\n",
       "      <td>4949.0</td>\n",
       "      <td>126.75</td>\n",
       "      <td>126.03</td>\n",
       "      <td>...</td>\n",
       "      <td>0.15</td>\n",
       "      <td>0.12</td>\n",
       "      <td>851.0</td>\n",
       "      <td>851.0</td>\n",
       "      <td>851.0</td>\n",
       "      <td>851.0</td>\n",
       "      <td>0.32</td>\n",
       "      <td>1.34</td>\n",
       "      <td>0</td>\n",
       "      <td>paid</td>\n",
       "    </tr>\n",
       "    <tr>\n",
       "      <th>2</th>\n",
       "      <td>121</td>\n",
       "      <td>10</td>\n",
       "      <td>0.782776</td>\n",
       "      <td>1100</td>\n",
       "      <td>3</td>\n",
       "      <td>84645</td>\n",
       "      <td>240.0</td>\n",
       "      <td>1625.0</td>\n",
       "      <td>123.52</td>\n",
       "      <td>121.35</td>\n",
       "      <td>...</td>\n",
       "      <td>0.29</td>\n",
       "      <td>0.08</td>\n",
       "      <td>20.0</td>\n",
       "      <td>20.0</td>\n",
       "      <td>20.0</td>\n",
       "      <td>20.0</td>\n",
       "      <td>0.28</td>\n",
       "      <td>1.43</td>\n",
       "      <td>0</td>\n",
       "      <td>paid</td>\n",
       "    </tr>\n",
       "    <tr>\n",
       "      <th>3</th>\n",
       "      <td>126</td>\n",
       "      <td>10</td>\n",
       "      <td>0.500080</td>\n",
       "      <td>1100</td>\n",
       "      <td>3</td>\n",
       "      <td>83607</td>\n",
       "      <td>1800.0</td>\n",
       "      <td>1527.0</td>\n",
       "      <td>127.76</td>\n",
       "      <td>126.49</td>\n",
       "      <td>...</td>\n",
       "      <td>0.01</td>\n",
       "      <td>0.07</td>\n",
       "      <td>124.0</td>\n",
       "      <td>124.0</td>\n",
       "      <td>124.0</td>\n",
       "      <td>124.0</td>\n",
       "      <td>0.25</td>\n",
       "      <td>1.52</td>\n",
       "      <td>0</td>\n",
       "      <td>paid</td>\n",
       "    </tr>\n",
       "    <tr>\n",
       "      <th>4</th>\n",
       "      <td>134</td>\n",
       "      <td>10</td>\n",
       "      <td>0.439874</td>\n",
       "      <td>1100</td>\n",
       "      <td>3</td>\n",
       "      <td>82642</td>\n",
       "      <td>7542.0</td>\n",
       "      <td>1730.0</td>\n",
       "      <td>132.94</td>\n",
       "      <td>133.58</td>\n",
       "      <td>...</td>\n",
       "      <td>0.01</td>\n",
       "      <td>0.12</td>\n",
       "      <td>903.0</td>\n",
       "      <td>903.0</td>\n",
       "      <td>903.0</td>\n",
       "      <td>903.0</td>\n",
       "      <td>0.32</td>\n",
       "      <td>1.35</td>\n",
       "      <td>0</td>\n",
       "      <td>paid</td>\n",
       "    </tr>\n",
       "    <tr>\n",
       "      <th>5</th>\n",
       "      <td>109</td>\n",
       "      <td>9</td>\n",
       "      <td>0.502749</td>\n",
       "      <td>2900</td>\n",
       "      <td>4</td>\n",
       "      <td>79124</td>\n",
       "      <td>89.0</td>\n",
       "      <td>491.0</td>\n",
       "      <td>122.72</td>\n",
       "      <td>112.77</td>\n",
       "      <td>...</td>\n",
       "      <td>0.51</td>\n",
       "      <td>0.06</td>\n",
       "      <td>5.0</td>\n",
       "      <td>5.0</td>\n",
       "      <td>5.0</td>\n",
       "      <td>5.0</td>\n",
       "      <td>0.23</td>\n",
       "      <td>1.56</td>\n",
       "      <td>0</td>\n",
       "      <td>paid</td>\n",
       "    </tr>\n",
       "    <tr>\n",
       "      <th>...</th>\n",
       "      <td>...</td>\n",
       "      <td>...</td>\n",
       "      <td>...</td>\n",
       "      <td>...</td>\n",
       "      <td>...</td>\n",
       "      <td>...</td>\n",
       "      <td>...</td>\n",
       "      <td>...</td>\n",
       "      <td>...</td>\n",
       "      <td>...</td>\n",
       "      <td>...</td>\n",
       "      <td>...</td>\n",
       "      <td>...</td>\n",
       "      <td>...</td>\n",
       "      <td>...</td>\n",
       "      <td>...</td>\n",
       "      <td>...</td>\n",
       "      <td>...</td>\n",
       "      <td>...</td>\n",
       "      <td>...</td>\n",
       "      <td>...</td>\n",
       "    </tr>\n",
       "    <tr>\n",
       "      <th>79996</th>\n",
       "      <td>117</td>\n",
       "      <td>8</td>\n",
       "      <td>0.071314</td>\n",
       "      <td>1300</td>\n",
       "      <td>4</td>\n",
       "      <td>76831</td>\n",
       "      <td>4614.0</td>\n",
       "      <td>3102.0</td>\n",
       "      <td>120.50</td>\n",
       "      <td>117.52</td>\n",
       "      <td>...</td>\n",
       "      <td>0.26</td>\n",
       "      <td>0.09</td>\n",
       "      <td>422.0</td>\n",
       "      <td>422.0</td>\n",
       "      <td>422.0</td>\n",
       "      <td>422.0</td>\n",
       "      <td>0.29</td>\n",
       "      <td>1.41</td>\n",
       "      <td>0</td>\n",
       "      <td>paid</td>\n",
       "    </tr>\n",
       "    <tr>\n",
       "      <th>79997</th>\n",
       "      <td>125</td>\n",
       "      <td>8</td>\n",
       "      <td>0.793560</td>\n",
       "      <td>1300</td>\n",
       "      <td>4</td>\n",
       "      <td>83549</td>\n",
       "      <td>1205.0</td>\n",
       "      <td>2950.0</td>\n",
       "      <td>124.11</td>\n",
       "      <td>124.77</td>\n",
       "      <td>...</td>\n",
       "      <td>0.03</td>\n",
       "      <td>0.10</td>\n",
       "      <td>117.0</td>\n",
       "      <td>117.0</td>\n",
       "      <td>117.0</td>\n",
       "      <td>117.0</td>\n",
       "      <td>0.30</td>\n",
       "      <td>1.37</td>\n",
       "      <td>0</td>\n",
       "      <td>paid</td>\n",
       "    </tr>\n",
       "    <tr>\n",
       "      <th>79998</th>\n",
       "      <td>120</td>\n",
       "      <td>8</td>\n",
       "      <td>0.081656</td>\n",
       "      <td>1300</td>\n",
       "      <td>4</td>\n",
       "      <td>2572</td>\n",
       "      <td>6943.0</td>\n",
       "      <td>3734.0</td>\n",
       "      <td>122.16</td>\n",
       "      <td>120.45</td>\n",
       "      <td>...</td>\n",
       "      <td>0.08</td>\n",
       "      <td>0.10</td>\n",
       "      <td>671.0</td>\n",
       "      <td>671.0</td>\n",
       "      <td>671.0</td>\n",
       "      <td>671.0</td>\n",
       "      <td>0.30</td>\n",
       "      <td>1.37</td>\n",
       "      <td>0</td>\n",
       "      <td>paid</td>\n",
       "    </tr>\n",
       "    <tr>\n",
       "      <th>79999</th>\n",
       "      <td>125</td>\n",
       "      <td>8</td>\n",
       "      <td>0.600110</td>\n",
       "      <td>1500</td>\n",
       "      <td>4</td>\n",
       "      <td>12421</td>\n",
       "      <td>4194.0</td>\n",
       "      <td>815.0</td>\n",
       "      <td>125.50</td>\n",
       "      <td>125.03</td>\n",
       "      <td>...</td>\n",
       "      <td>0.02</td>\n",
       "      <td>0.08</td>\n",
       "      <td>343.0</td>\n",
       "      <td>343.0</td>\n",
       "      <td>343.0</td>\n",
       "      <td>343.0</td>\n",
       "      <td>0.27</td>\n",
       "      <td>1.48</td>\n",
       "      <td>0</td>\n",
       "      <td>paid</td>\n",
       "    </tr>\n",
       "    <tr>\n",
       "      <th>80000</th>\n",
       "      <td>130</td>\n",
       "      <td>8</td>\n",
       "      <td>0.353588</td>\n",
       "      <td>1500</td>\n",
       "      <td>4</td>\n",
       "      <td>14629</td>\n",
       "      <td>7818.0</td>\n",
       "      <td>2583.0</td>\n",
       "      <td>128.91</td>\n",
       "      <td>129.72</td>\n",
       "      <td>...</td>\n",
       "      <td>0.01</td>\n",
       "      <td>0.10</td>\n",
       "      <td>787.0</td>\n",
       "      <td>787.0</td>\n",
       "      <td>787.0</td>\n",
       "      <td>787.0</td>\n",
       "      <td>0.30</td>\n",
       "      <td>1.39</td>\n",
       "      <td>9</td>\n",
       "      <td>not paid</td>\n",
       "    </tr>\n",
       "  </tbody>\n",
       "</table>\n",
       "<p>80000 rows × 93 columns</p>\n",
       "</div>"
      ],
      "text/plain": [
       "        f1  f2        f3    f4  f5     f6      f7      f8      f9     f10  \\\n",
       "id                                                                          \n",
       "1      126  10  0.686842  1100   3  13699  7201.0  4949.0  126.75  126.03   \n",
       "2      121  10  0.782776  1100   3  84645   240.0  1625.0  123.52  121.35   \n",
       "3      126  10  0.500080  1100   3  83607  1800.0  1527.0  127.76  126.49   \n",
       "4      134  10  0.439874  1100   3  82642  7542.0  1730.0  132.94  133.58   \n",
       "5      109   9  0.502749  2900   4  79124    89.0   491.0  122.72  112.77   \n",
       "...    ...  ..       ...   ...  ..    ...     ...     ...     ...     ...   \n",
       "79996  117   8  0.071314  1300   4  76831  4614.0  3102.0  120.50  117.52   \n",
       "79997  125   8  0.793560  1300   4  83549  1205.0  2950.0  124.11  124.77   \n",
       "79998  120   8  0.081656  1300   4   2572  6943.0  3734.0  122.16  120.45   \n",
       "79999  125   8  0.600110  1500   4  12421  4194.0   815.0  125.50  125.03   \n",
       "80000  130   8  0.353588  1500   4  14629  7818.0  2583.0  128.91  129.72   \n",
       "\n",
       "       ...   f92   f94    f95    f96    f97    f98   f99  f100  loss    target  \n",
       "id     ...                                                                      \n",
       "1      ...  0.15  0.12  851.0  851.0  851.0  851.0  0.32  1.34     0      paid  \n",
       "2      ...  0.29  0.08   20.0   20.0   20.0   20.0  0.28  1.43     0      paid  \n",
       "3      ...  0.01  0.07  124.0  124.0  124.0  124.0  0.25  1.52     0      paid  \n",
       "4      ...  0.01  0.12  903.0  903.0  903.0  903.0  0.32  1.35     0      paid  \n",
       "5      ...  0.51  0.06    5.0    5.0    5.0    5.0  0.23  1.56     0      paid  \n",
       "...    ...   ...   ...    ...    ...    ...    ...   ...   ...   ...       ...  \n",
       "79996  ...  0.26  0.09  422.0  422.0  422.0  422.0  0.29  1.41     0      paid  \n",
       "79997  ...  0.03  0.10  117.0  117.0  117.0  117.0  0.30  1.37     0      paid  \n",
       "79998  ...  0.08  0.10  671.0  671.0  671.0  671.0  0.30  1.37     0      paid  \n",
       "79999  ...  0.02  0.08  343.0  343.0  343.0  343.0  0.27  1.48     0      paid  \n",
       "80000  ...  0.01  0.10  787.0  787.0  787.0  787.0  0.30  1.39     9  not paid  \n",
       "\n",
       "[80000 rows x 93 columns]"
      ]
     },
     "execution_count": 220,
     "metadata": {},
     "output_type": "execute_result"
    }
   ],
   "source": [
    "data.drop_duplicates()\n",
    "# no duplicates!"
   ]
  },
  {
   "cell_type": "markdown",
   "id": "e1f25fd6-8f1d-402a-a317-0c5551e2d3cf",
   "metadata": {},
   "source": [
    "## 1-6-Check correlation"
   ]
  },
  {
   "cell_type": "code",
   "execution_count": 221,
   "id": "cc5d6806-80c7-4aed-b268-9ce2bf26abc7",
   "metadata": {},
   "outputs": [],
   "source": [
    "data_temp = data.copy()\n",
    "data_temp['target_num'] = np.where(data['loss']>0, 1, 0)"
   ]
  },
  {
   "cell_type": "code",
   "execution_count": 222,
   "id": "f9c9cee7-52b2-4eec-8ac0-79bf67ff218a",
   "metadata": {},
   "outputs": [
    {
     "data": {
      "text/html": [
       "<div>\n",
       "<style scoped>\n",
       "    .dataframe tbody tr th:only-of-type {\n",
       "        vertical-align: middle;\n",
       "    }\n",
       "\n",
       "    .dataframe tbody tr th {\n",
       "        vertical-align: top;\n",
       "    }\n",
       "\n",
       "    .dataframe thead th {\n",
       "        text-align: right;\n",
       "    }\n",
       "</style>\n",
       "<table border=\"1\" class=\"dataframe\">\n",
       "  <thead>\n",
       "    <tr style=\"text-align: right;\">\n",
       "      <th></th>\n",
       "      <th>f1</th>\n",
       "      <th>f2</th>\n",
       "      <th>f3</th>\n",
       "      <th>f4</th>\n",
       "      <th>f5</th>\n",
       "      <th>f6</th>\n",
       "      <th>f7</th>\n",
       "      <th>f8</th>\n",
       "      <th>f9</th>\n",
       "      <th>f10</th>\n",
       "      <th>...</th>\n",
       "      <th>f92</th>\n",
       "      <th>f94</th>\n",
       "      <th>f95</th>\n",
       "      <th>f96</th>\n",
       "      <th>f97</th>\n",
       "      <th>f98</th>\n",
       "      <th>f99</th>\n",
       "      <th>f100</th>\n",
       "      <th>loss</th>\n",
       "      <th>target_num</th>\n",
       "    </tr>\n",
       "  </thead>\n",
       "  <tbody>\n",
       "    <tr>\n",
       "      <th>f1</th>\n",
       "      <td>1.000000</td>\n",
       "      <td>-0.247156</td>\n",
       "      <td>-0.001845</td>\n",
       "      <td>0.794563</td>\n",
       "      <td>-0.330602</td>\n",
       "      <td>0.112862</td>\n",
       "      <td>-0.184160</td>\n",
       "      <td>-0.164189</td>\n",
       "      <td>0.974111</td>\n",
       "      <td>0.998744</td>\n",
       "      <td>...</td>\n",
       "      <td>0.010417</td>\n",
       "      <td>0.159813</td>\n",
       "      <td>-0.077806</td>\n",
       "      <td>-0.077806</td>\n",
       "      <td>-0.077806</td>\n",
       "      <td>-0.077806</td>\n",
       "      <td>0.105825</td>\n",
       "      <td>-0.160487</td>\n",
       "      <td>-0.006955</td>\n",
       "      <td>0.015164</td>\n",
       "    </tr>\n",
       "    <tr>\n",
       "      <th>f2</th>\n",
       "      <td>-0.247156</td>\n",
       "      <td>1.000000</td>\n",
       "      <td>0.000711</td>\n",
       "      <td>-0.252259</td>\n",
       "      <td>0.252693</td>\n",
       "      <td>0.084261</td>\n",
       "      <td>-0.109939</td>\n",
       "      <td>-0.149066</td>\n",
       "      <td>-0.286518</td>\n",
       "      <td>-0.255698</td>\n",
       "      <td>...</td>\n",
       "      <td>-0.016335</td>\n",
       "      <td>-0.228392</td>\n",
       "      <td>-0.173856</td>\n",
       "      <td>-0.173856</td>\n",
       "      <td>-0.173856</td>\n",
       "      <td>-0.173856</td>\n",
       "      <td>-0.210094</td>\n",
       "      <td>0.218223</td>\n",
       "      <td>-0.000676</td>\n",
       "      <td>-0.000445</td>\n",
       "    </tr>\n",
       "    <tr>\n",
       "      <th>f3</th>\n",
       "      <td>-0.001845</td>\n",
       "      <td>0.000711</td>\n",
       "      <td>1.000000</td>\n",
       "      <td>-0.001167</td>\n",
       "      <td>0.004881</td>\n",
       "      <td>0.001179</td>\n",
       "      <td>0.003829</td>\n",
       "      <td>-0.003993</td>\n",
       "      <td>-0.002101</td>\n",
       "      <td>-0.001946</td>\n",
       "      <td>...</td>\n",
       "      <td>0.000930</td>\n",
       "      <td>0.004331</td>\n",
       "      <td>0.004779</td>\n",
       "      <td>0.004779</td>\n",
       "      <td>0.004779</td>\n",
       "      <td>0.004779</td>\n",
       "      <td>0.004878</td>\n",
       "      <td>-0.004920</td>\n",
       "      <td>0.001611</td>\n",
       "      <td>0.004514</td>\n",
       "    </tr>\n",
       "    <tr>\n",
       "      <th>f4</th>\n",
       "      <td>0.794563</td>\n",
       "      <td>-0.252259</td>\n",
       "      <td>-0.001167</td>\n",
       "      <td>1.000000</td>\n",
       "      <td>-0.316336</td>\n",
       "      <td>0.130428</td>\n",
       "      <td>-0.252565</td>\n",
       "      <td>-0.199759</td>\n",
       "      <td>0.840515</td>\n",
       "      <td>0.805701</td>\n",
       "      <td>...</td>\n",
       "      <td>-0.003531</td>\n",
       "      <td>0.095729</td>\n",
       "      <td>-0.153029</td>\n",
       "      <td>-0.153029</td>\n",
       "      <td>-0.153029</td>\n",
       "      <td>-0.153029</td>\n",
       "      <td>0.045995</td>\n",
       "      <td>-0.087330</td>\n",
       "      <td>-0.004084</td>\n",
       "      <td>-0.004004</td>\n",
       "    </tr>\n",
       "    <tr>\n",
       "      <th>f5</th>\n",
       "      <td>-0.330602</td>\n",
       "      <td>0.252693</td>\n",
       "      <td>0.004881</td>\n",
       "      <td>-0.316336</td>\n",
       "      <td>1.000000</td>\n",
       "      <td>-0.057789</td>\n",
       "      <td>0.141042</td>\n",
       "      <td>0.015580</td>\n",
       "      <td>-0.347349</td>\n",
       "      <td>-0.334903</td>\n",
       "      <td>...</td>\n",
       "      <td>0.014671</td>\n",
       "      <td>-0.063476</td>\n",
       "      <td>0.082252</td>\n",
       "      <td>0.082252</td>\n",
       "      <td>0.082252</td>\n",
       "      <td>0.082252</td>\n",
       "      <td>-0.037612</td>\n",
       "      <td>0.058116</td>\n",
       "      <td>0.003553</td>\n",
       "      <td>0.015091</td>\n",
       "    </tr>\n",
       "    <tr>\n",
       "      <th>...</th>\n",
       "      <td>...</td>\n",
       "      <td>...</td>\n",
       "      <td>...</td>\n",
       "      <td>...</td>\n",
       "      <td>...</td>\n",
       "      <td>...</td>\n",
       "      <td>...</td>\n",
       "      <td>...</td>\n",
       "      <td>...</td>\n",
       "      <td>...</td>\n",
       "      <td>...</td>\n",
       "      <td>...</td>\n",
       "      <td>...</td>\n",
       "      <td>...</td>\n",
       "      <td>...</td>\n",
       "      <td>...</td>\n",
       "      <td>...</td>\n",
       "      <td>...</td>\n",
       "      <td>...</td>\n",
       "      <td>...</td>\n",
       "      <td>...</td>\n",
       "    </tr>\n",
       "    <tr>\n",
       "      <th>f98</th>\n",
       "      <td>-0.077806</td>\n",
       "      <td>-0.173856</td>\n",
       "      <td>0.004779</td>\n",
       "      <td>-0.153029</td>\n",
       "      <td>0.082252</td>\n",
       "      <td>-0.251359</td>\n",
       "      <td>0.951921</td>\n",
       "      <td>0.239673</td>\n",
       "      <td>-0.099195</td>\n",
       "      <td>-0.081788</td>\n",
       "      <td>...</td>\n",
       "      <td>0.098335</td>\n",
       "      <td>0.506656</td>\n",
       "      <td>1.000000</td>\n",
       "      <td>1.000000</td>\n",
       "      <td>1.000000</td>\n",
       "      <td>1.000000</td>\n",
       "      <td>0.469931</td>\n",
       "      <td>-0.502243</td>\n",
       "      <td>-0.002276</td>\n",
       "      <td>0.061381</td>\n",
       "    </tr>\n",
       "    <tr>\n",
       "      <th>f99</th>\n",
       "      <td>0.105825</td>\n",
       "      <td>-0.210094</td>\n",
       "      <td>0.004878</td>\n",
       "      <td>0.045995</td>\n",
       "      <td>-0.037612</td>\n",
       "      <td>-0.100724</td>\n",
       "      <td>0.370209</td>\n",
       "      <td>0.154811</td>\n",
       "      <td>0.100702</td>\n",
       "      <td>0.105428</td>\n",
       "      <td>...</td>\n",
       "      <td>0.154779</td>\n",
       "      <td>0.854244</td>\n",
       "      <td>0.469931</td>\n",
       "      <td>0.469931</td>\n",
       "      <td>0.469931</td>\n",
       "      <td>0.469931</td>\n",
       "      <td>1.000000</td>\n",
       "      <td>-0.985950</td>\n",
       "      <td>-0.001967</td>\n",
       "      <td>0.058946</td>\n",
       "    </tr>\n",
       "    <tr>\n",
       "      <th>f100</th>\n",
       "      <td>-0.160487</td>\n",
       "      <td>0.218223</td>\n",
       "      <td>-0.004920</td>\n",
       "      <td>-0.087330</td>\n",
       "      <td>0.058116</td>\n",
       "      <td>0.120202</td>\n",
       "      <td>-0.362391</td>\n",
       "      <td>-0.151266</td>\n",
       "      <td>-0.150852</td>\n",
       "      <td>-0.159522</td>\n",
       "      <td>...</td>\n",
       "      <td>-0.144674</td>\n",
       "      <td>-0.953477</td>\n",
       "      <td>-0.502243</td>\n",
       "      <td>-0.502243</td>\n",
       "      <td>-0.502243</td>\n",
       "      <td>-0.502243</td>\n",
       "      <td>-0.985950</td>\n",
       "      <td>1.000000</td>\n",
       "      <td>0.001818</td>\n",
       "      <td>-0.064509</td>\n",
       "    </tr>\n",
       "    <tr>\n",
       "      <th>loss</th>\n",
       "      <td>-0.006955</td>\n",
       "      <td>-0.000676</td>\n",
       "      <td>0.001611</td>\n",
       "      <td>-0.004084</td>\n",
       "      <td>0.003553</td>\n",
       "      <td>-0.003529</td>\n",
       "      <td>-0.000857</td>\n",
       "      <td>-0.003905</td>\n",
       "      <td>-0.005198</td>\n",
       "      <td>-0.006536</td>\n",
       "      <td>...</td>\n",
       "      <td>-0.002047</td>\n",
       "      <td>-0.001414</td>\n",
       "      <td>-0.002276</td>\n",
       "      <td>-0.002276</td>\n",
       "      <td>-0.002276</td>\n",
       "      <td>-0.002276</td>\n",
       "      <td>-0.001967</td>\n",
       "      <td>0.001818</td>\n",
       "      <td>1.000000</td>\n",
       "      <td>0.574480</td>\n",
       "    </tr>\n",
       "    <tr>\n",
       "      <th>target_num</th>\n",
       "      <td>0.015164</td>\n",
       "      <td>-0.000445</td>\n",
       "      <td>0.004514</td>\n",
       "      <td>-0.004004</td>\n",
       "      <td>0.015091</td>\n",
       "      <td>-0.015687</td>\n",
       "      <td>0.049378</td>\n",
       "      <td>0.040114</td>\n",
       "      <td>0.011677</td>\n",
       "      <td>0.014684</td>\n",
       "      <td>...</td>\n",
       "      <td>0.023132</td>\n",
       "      <td>0.064612</td>\n",
       "      <td>0.061381</td>\n",
       "      <td>0.061381</td>\n",
       "      <td>0.061381</td>\n",
       "      <td>0.061381</td>\n",
       "      <td>0.058946</td>\n",
       "      <td>-0.064509</td>\n",
       "      <td>0.574480</td>\n",
       "      <td>1.000000</td>\n",
       "    </tr>\n",
       "  </tbody>\n",
       "</table>\n",
       "<p>93 rows × 93 columns</p>\n",
       "</div>"
      ],
      "text/plain": [
       "                  f1        f2        f3        f4        f5        f6  \\\n",
       "f1          1.000000 -0.247156 -0.001845  0.794563 -0.330602  0.112862   \n",
       "f2         -0.247156  1.000000  0.000711 -0.252259  0.252693  0.084261   \n",
       "f3         -0.001845  0.000711  1.000000 -0.001167  0.004881  0.001179   \n",
       "f4          0.794563 -0.252259 -0.001167  1.000000 -0.316336  0.130428   \n",
       "f5         -0.330602  0.252693  0.004881 -0.316336  1.000000 -0.057789   \n",
       "...              ...       ...       ...       ...       ...       ...   \n",
       "f98        -0.077806 -0.173856  0.004779 -0.153029  0.082252 -0.251359   \n",
       "f99         0.105825 -0.210094  0.004878  0.045995 -0.037612 -0.100724   \n",
       "f100       -0.160487  0.218223 -0.004920 -0.087330  0.058116  0.120202   \n",
       "loss       -0.006955 -0.000676  0.001611 -0.004084  0.003553 -0.003529   \n",
       "target_num  0.015164 -0.000445  0.004514 -0.004004  0.015091 -0.015687   \n",
       "\n",
       "                  f7        f8        f9       f10  ...       f92       f94  \\\n",
       "f1         -0.184160 -0.164189  0.974111  0.998744  ...  0.010417  0.159813   \n",
       "f2         -0.109939 -0.149066 -0.286518 -0.255698  ... -0.016335 -0.228392   \n",
       "f3          0.003829 -0.003993 -0.002101 -0.001946  ...  0.000930  0.004331   \n",
       "f4         -0.252565 -0.199759  0.840515  0.805701  ... -0.003531  0.095729   \n",
       "f5          0.141042  0.015580 -0.347349 -0.334903  ...  0.014671 -0.063476   \n",
       "...              ...       ...       ...       ...  ...       ...       ...   \n",
       "f98         0.951921  0.239673 -0.099195 -0.081788  ...  0.098335  0.506656   \n",
       "f99         0.370209  0.154811  0.100702  0.105428  ...  0.154779  0.854244   \n",
       "f100       -0.362391 -0.151266 -0.150852 -0.159522  ... -0.144674 -0.953477   \n",
       "loss       -0.000857 -0.003905 -0.005198 -0.006536  ... -0.002047 -0.001414   \n",
       "target_num  0.049378  0.040114  0.011677  0.014684  ...  0.023132  0.064612   \n",
       "\n",
       "                 f95       f96       f97       f98       f99      f100  \\\n",
       "f1         -0.077806 -0.077806 -0.077806 -0.077806  0.105825 -0.160487   \n",
       "f2         -0.173856 -0.173856 -0.173856 -0.173856 -0.210094  0.218223   \n",
       "f3          0.004779  0.004779  0.004779  0.004779  0.004878 -0.004920   \n",
       "f4         -0.153029 -0.153029 -0.153029 -0.153029  0.045995 -0.087330   \n",
       "f5          0.082252  0.082252  0.082252  0.082252 -0.037612  0.058116   \n",
       "...              ...       ...       ...       ...       ...       ...   \n",
       "f98         1.000000  1.000000  1.000000  1.000000  0.469931 -0.502243   \n",
       "f99         0.469931  0.469931  0.469931  0.469931  1.000000 -0.985950   \n",
       "f100       -0.502243 -0.502243 -0.502243 -0.502243 -0.985950  1.000000   \n",
       "loss       -0.002276 -0.002276 -0.002276 -0.002276 -0.001967  0.001818   \n",
       "target_num  0.061381  0.061381  0.061381  0.061381  0.058946 -0.064509   \n",
       "\n",
       "                loss  target_num  \n",
       "f1         -0.006955    0.015164  \n",
       "f2         -0.000676   -0.000445  \n",
       "f3          0.001611    0.004514  \n",
       "f4         -0.004084   -0.004004  \n",
       "f5          0.003553    0.015091  \n",
       "...              ...         ...  \n",
       "f98        -0.002276    0.061381  \n",
       "f99        -0.001967    0.058946  \n",
       "f100        0.001818   -0.064509  \n",
       "loss        1.000000    0.574480  \n",
       "target_num  0.574480    1.000000  \n",
       "\n",
       "[93 rows x 93 columns]"
      ]
     },
     "execution_count": 222,
     "metadata": {},
     "output_type": "execute_result"
    }
   ],
   "source": [
    "correlation_matrix = data_temp.corr()\n",
    "correlation_matrix"
   ]
  },
  {
   "cell_type": "code",
   "execution_count": 223,
   "id": "3a402d87-922b-4e31-ac8f-da82107f0dee",
   "metadata": {
    "scrolled": true,
    "tags": []
   },
   "outputs": [
    {
     "data": {
      "text/plain": [
       "target_num    1.000000\n",
       "loss          0.574480\n",
       "f25           0.100145\n",
       "f31           0.098009\n",
       "f26           0.097614\n",
       "f55           0.078683\n",
       "f56           0.077952\n",
       "f63           0.077328\n",
       "f19           0.075730\n",
       "f84           0.071579\n",
       "f65           0.070136\n",
       "f64           0.068551\n",
       "f32           0.067455\n",
       "f89           0.067149\n",
       "f45           0.066428\n",
       "f85           0.066031\n",
       "f87           0.066031\n",
       "f88           0.066031\n",
       "f86           0.066031\n",
       "f59           0.065847\n",
       "f94           0.064612\n",
       "f28           0.061768\n",
       "f49           0.061412\n",
       "f97           0.061381\n",
       "f98           0.061381\n",
       "f96           0.061381\n",
       "f95           0.061381\n",
       "f30           0.060806\n",
       "f24           0.060393\n",
       "f60           0.060099\n",
       "Name: target_num, dtype: float64"
      ]
     },
     "execution_count": 223,
     "metadata": {},
     "output_type": "execute_result"
    }
   ],
   "source": [
    "# check correlation between param and target\n",
    "correlation_matrix['target_num'].sort_values(ascending=False).head(30)"
   ]
  },
  {
   "cell_type": "code",
   "execution_count": 224,
   "id": "f3f017a6-93a4-45a9-9ced-c5869607b5b3",
   "metadata": {
    "scrolled": true,
    "tags": []
   },
   "outputs": [
    {
     "data": {
      "text/plain": [
       "[['f1', 'f9', 0.9741109813268337],\n",
       " ['f1', 'f10', 0.9987444992933321],\n",
       " ['f7', 'f78', 0.9881538847206764],\n",
       " ['f7', 'f79', 0.9754388074186067],\n",
       " ['f7', 'f95', 0.9519208112922621],\n",
       " ['f7', 'f96', 0.9519208112922621],\n",
       " ['f7', 'f97', 0.9519208112922621],\n",
       " ['f7', 'f98', 0.9519208112922621],\n",
       " ['f9', 'f1', 0.9741109813268337],\n",
       " ['f9', 'f10', 0.9834956121795879],\n",
       " ['f10', 'f1', 0.9987444992933321],\n",
       " ['f10', 'f9', 0.9834956121795879],\n",
       " ['f13', 'f68', 0.9421821915281068],\n",
       " ['f14', 'f15', 0.9798737119953536],\n",
       " ['f14', 'f17', 0.9855264795066454],\n",
       " ['f14', 'f18', 0.9299801297829013],\n",
       " ['f14', 'f20', 0.9626250063243184],\n",
       " ['f14', 'f21', 0.9775498392137574],\n",
       " ['f14', 'f22', 0.9823625744570326],\n",
       " ['f14', 'f24', 0.9828618181906823],\n",
       " ['f14', 'f28', 0.9413514319980961],\n",
       " ['f14', 'f30', 0.9484772262176516],\n",
       " ['f14', 'f40', 0.9235351836172128],\n",
       " ['f14', 'f46', 0.9549740512242658],\n",
       " ['f14', 'f50', 0.9748100413969607],\n",
       " ['f14', 'f60', 0.9613276847420534],\n",
       " ['f15', 'f14', 0.9798737119953536],\n",
       " ['f15', 'f17', 0.9709889909625202],\n",
       " ['f15', 'f18', 0.948247626990623],\n",
       " ['f15', 'f20', 0.9603550814293029],\n",
       " ['f15', 'f21', 0.956992550945568],\n",
       " ['f15', 'f22', 0.9623551325376901],\n",
       " ['f15', 'f24', 0.9620433432002398],\n",
       " ['f15', 'f28', 0.9139696944730462],\n",
       " ['f15', 'f30', 0.9217980571823061],\n",
       " ['f15', 'f40', 0.942819359024148],\n",
       " ['f15', 'f46', 0.9368551152634622],\n",
       " ['f15', 'f50', 0.9956642702393367],\n",
       " ['f15', 'f60', 0.943575549550892],\n",
       " ['f17', 'f14', 0.9855264795066454],\n",
       " ['f17', 'f15', 0.9709889909625202],\n",
       " ['f17', 'f18', 0.9348180081281887],\n",
       " ['f17', 'f20', 0.9685032852981549],\n",
       " ['f17', 'f21', 0.9865314639561783],\n",
       " ['f17', 'f22', 0.9924713809100385],\n",
       " ['f17', 'f24', 0.9917738459689721],\n",
       " ['f17', 'f28', 0.9430700247674514],\n",
       " ['f17', 'f30', 0.9507105636583235],\n",
       " ['f17', 'f40', 0.9293113795770259],\n",
       " ['f17', 'f46', 0.9652611496910106],\n",
       " ['f17', 'f50', 0.9665395732810241],\n",
       " ['f17', 'f60', 0.9728988034525562],\n",
       " ['f18', 'f14', 0.9299801297829013],\n",
       " ['f18', 'f15', 0.948247626990623],\n",
       " ['f18', 'f17', 0.9348180081281887],\n",
       " ['f18', 'f20', 0.9468439335529687],\n",
       " ['f18', 'f21', 0.9040648664196047],\n",
       " ['f18', 'f22', 0.9118452309627145],\n",
       " ['f18', 'f24', 0.9095371140765256],\n",
       " ['f18', 'f40', 0.9958122858778299],\n",
       " ['f18', 'f50', 0.9466847024163936],\n",
       " ['f19', 'f56', 0.9956457005286565],\n",
       " ['f20', 'f14', 0.9626250063243184],\n",
       " ['f20', 'f15', 0.9603550814293029],\n",
       " ['f20', 'f17', 0.9685032852981549],\n",
       " ['f20', 'f18', 0.9468439335529687],\n",
       " ['f20', 'f21', 0.958581431083505],\n",
       " ['f20', 'f22', 0.9615966607756282],\n",
       " ['f20', 'f24', 0.9601787349625068],\n",
       " ['f20', 'f28', 0.9078103437588011],\n",
       " ['f20', 'f30', 0.91808014374016],\n",
       " ['f20', 'f40', 0.9411976539440329],\n",
       " ['f20', 'f46', 0.9417085120705323],\n",
       " ['f20', 'f50', 0.9565761523399767],\n",
       " ['f20', 'f60', 0.9455918749280522],\n",
       " ['f21', 'f14', 0.9775498392137574],\n",
       " ['f21', 'f15', 0.956992550945568],\n",
       " ['f21', 'f17', 0.9865314639561783],\n",
       " ['f21', 'f18', 0.9040648664196047],\n",
       " ['f21', 'f20', 0.958581431083505],\n",
       " ['f21', 'f22', 0.9932775092285465],\n",
       " ['f21', 'f24', 0.9898500504608445],\n",
       " ['f21', 'f28', 0.9460064044107442],\n",
       " ['f21', 'f30', 0.953746123788998],\n",
       " ['f21', 'f46', 0.995639972908426],\n",
       " ['f21', 'f50', 0.9509318984298015],\n",
       " ['f21', 'f60', 0.9875660737406204],\n",
       " ['f22', 'f14', 0.9823625744570326],\n",
       " ['f22', 'f15', 0.9623551325376901],\n",
       " ['f22', 'f17', 0.9924713809100385],\n",
       " ['f22', 'f18', 0.9118452309627145],\n",
       " ['f22', 'f20', 0.9615966607756282],\n",
       " ['f22', 'f21', 0.9932775092285465],\n",
       " ['f22', 'f24', 0.9945855039387624],\n",
       " ['f22', 'f28', 0.9453274876922801],\n",
       " ['f22', 'f30', 0.9541184413871959],\n",
       " ['f22', 'f40', 0.9044461335433759],\n",
       " ['f22', 'f46', 0.9862166490884201],\n",
       " ['f22', 'f50', 0.9568612596055206],\n",
       " ['f22', 'f60', 0.9956499874819609],\n",
       " ['f24', 'f14', 0.9828618181906823],\n",
       " ['f24', 'f15', 0.9620433432002398],\n",
       " ['f24', 'f17', 0.9917738459689721],\n",
       " ['f24', 'f18', 0.9095371140765256],\n",
       " ['f24', 'f20', 0.9601787349625068],\n",
       " ['f24', 'f21', 0.9898500504608445],\n",
       " ['f24', 'f22', 0.9945855039387624],\n",
       " ['f24', 'f28', 0.9643152528716091],\n",
       " ['f24', 'f30', 0.9679074939408499],\n",
       " ['f24', 'f40', 0.9024364008741601],\n",
       " ['f24', 'f46', 0.9635007474992224],\n",
       " ['f24', 'f50', 0.9557755453295002],\n",
       " ['f24', 'f60', 0.9702076684053283],\n",
       " ['f27', 'f28', 0.9638096290724504],\n",
       " ['f27', 'f29', 0.9409155099951676],\n",
       " ['f27', 'f30', 0.9271907090952237],\n",
       " ['f28', 'f14', 0.9413514319980961],\n",
       " ['f28', 'f15', 0.9139696944730462],\n",
       " ['f28', 'f17', 0.9430700247674514],\n",
       " ['f28', 'f20', 0.9078103437588011],\n",
       " ['f28', 'f21', 0.9460064044107442],\n",
       " ['f28', 'f22', 0.9453274876922801],\n",
       " ['f28', 'f24', 0.9643152528716091],\n",
       " ['f28', 'f27', 0.9638096290724504],\n",
       " ['f28', 'f29', 0.9445860213838323],\n",
       " ['f28', 'f30', 0.9830469975654805],\n",
       " ['f28', 'f46', 0.9140138660455387],\n",
       " ['f28', 'f50', 0.9003467607580226],\n",
       " ['f28', 'f60', 0.91491980190201],\n",
       " ['f29', 'f27', 0.9409155099951676],\n",
       " ['f29', 'f28', 0.9445860213838323],\n",
       " ['f29', 'f30', 0.9710871596319596],\n",
       " ['f30', 'f14', 0.9484772262176516],\n",
       " ['f30', 'f15', 0.9217980571823061],\n",
       " ['f30', 'f17', 0.9507105636583235],\n",
       " ['f30', 'f20', 0.91808014374016],\n",
       " ['f30', 'f21', 0.953746123788998],\n",
       " ['f30', 'f22', 0.9541184413871959],\n",
       " ['f30', 'f24', 0.9679074939408499],\n",
       " ['f30', 'f27', 0.9271907090952237],\n",
       " ['f30', 'f28', 0.9830469975654805],\n",
       " ['f30', 'f29', 0.9710871596319596],\n",
       " ['f30', 'f46', 0.9241855028372886],\n",
       " ['f30', 'f50', 0.9101919733653323],\n",
       " ['f30', 'f60', 0.9261085953975067],\n",
       " ['f32', 'f64', 0.9953949682485468],\n",
       " ['f36', 'f42', 0.9999578226693351],\n",
       " ['f36', 'f48', 0.9885661468022697],\n",
       " ['f36', 'f52', 0.9999333230942781],\n",
       " ['f36', 'f58', 0.9999578226693351],\n",
       " ['f36', 'f62', 0.9889677261436355],\n",
       " ['f36', 'f74', 0.9999977210960375],\n",
       " ['f39', 'f40', 0.9268138119267769],\n",
       " ['f39', 'f49', 0.9551721723869143],\n",
       " ['f40', 'f14', 0.9235351836172128],\n",
       " ['f40', 'f15', 0.942819359024148],\n",
       " ['f40', 'f17', 0.9293113795770259],\n",
       " ['f40', 'f18', 0.9958122858778299],\n",
       " ['f40', 'f20', 0.9411976539440329],\n",
       " ['f40', 'f22', 0.9044461335433759],\n",
       " ['f40', 'f24', 0.9024364008741601],\n",
       " ['f40', 'f39', 0.9268138119267769],\n",
       " ['f40', 'f50', 0.9491924042932389],\n",
       " ['f41', 'f51', 0.9590260730182696],\n",
       " ['f42', 'f36', 0.9999578226693351],\n",
       " ['f42', 'f48', 0.9885945132031588],\n",
       " ['f42', 'f52', 0.999980755473843],\n",
       " ['f42', 'f58', 1.0],\n",
       " ['f42', 'f62', 0.9890062472370174],\n",
       " ['f42', 'f74', 0.9999601652339931],\n",
       " ['f43', 'f53', 0.958335600879579],\n",
       " ['f45', 'f46', 0.918224011349177],\n",
       " ['f45', 'f49', 0.9396569233264591],\n",
       " ['f45', 'f59', 0.9911319425113759],\n",
       " ['f45', 'f60', 0.9130245039401628],\n",
       " ['f46', 'f14', 0.9549740512242658],\n",
       " ['f46', 'f15', 0.9368551152634622],\n",
       " ['f46', 'f17', 0.9652611496910106],\n",
       " ['f46', 'f20', 0.9417085120705323],\n",
       " ['f46', 'f21', 0.995639972908426],\n",
       " ['f46', 'f22', 0.9862166490884201],\n",
       " ['f46', 'f24', 0.9635007474992224],\n",
       " ['f46', 'f28', 0.9140138660455387],\n",
       " ['f46', 'f30', 0.9241855028372886],\n",
       " ['f46', 'f45', 0.918224011349177],\n",
       " ['f46', 'f50', 0.9389204811427905],\n",
       " ['f46', 'f59', 0.9082517740239067],\n",
       " ['f46', 'f60', 0.9892183832523103],\n",
       " ['f47', 'f61', 0.9856849551228775],\n",
       " ['f48', 'f36', 0.9885661468022697],\n",
       " ['f48', 'f42', 0.9885945132031588],\n",
       " ['f48', 'f52', 0.9886706138553846],\n",
       " ['f48', 'f58', 0.9885945132031588],\n",
       " ['f48', 'f62', 0.9997287158513097],\n",
       " ['f48', 'f74', 0.9885716244130747],\n",
       " ['f49', 'f39', 0.9551721723869143],\n",
       " ['f49', 'f45', 0.9396569233264591],\n",
       " ['f49', 'f50', 0.9206951727428204],\n",
       " ['f49', 'f59', 0.9468495345292596],\n",
       " ['f50', 'f14', 0.9748100413969607],\n",
       " ['f50', 'f15', 0.9956642702393367],\n",
       " ['f50', 'f17', 0.9665395732810241],\n",
       " ['f50', 'f18', 0.9466847024163936],\n",
       " ['f50', 'f20', 0.9565761523399767],\n",
       " ['f50', 'f21', 0.9509318984298015],\n",
       " ['f50', 'f22', 0.9568612596055206],\n",
       " ['f50', 'f24', 0.9557755453295002],\n",
       " ['f50', 'f28', 0.9003467607580226],\n",
       " ['f50', 'f30', 0.9101919733653323],\n",
       " ['f50', 'f40', 0.9491924042932389],\n",
       " ['f50', 'f46', 0.9389204811427905],\n",
       " ['f50', 'f49', 0.9206951727428204],\n",
       " ['f50', 'f60', 0.9459686903911895],\n",
       " ['f51', 'f41', 0.9590260730182696],\n",
       " ['f52', 'f36', 0.9999333230942781],\n",
       " ['f52', 'f42', 0.999980755473843],\n",
       " ['f52', 'f48', 0.9886706138553846],\n",
       " ['f52', 'f58', 0.9999807554738431],\n",
       " ['f52', 'f62', 0.9890767122413827],\n",
       " ['f52', 'f74', 0.9999358333748615],\n",
       " ['f53', 'f43', 0.958335600879579],\n",
       " ['f55', 'f56', 0.9244282789420065],\n",
       " ['f56', 'f19', 0.9956457005286565],\n",
       " ['f56', 'f55', 0.9244282789420065],\n",
       " ['f58', 'f36', 0.9999578226693351],\n",
       " ['f58', 'f42', 1.0],\n",
       " ['f58', 'f48', 0.9885945132031588],\n",
       " ['f58', 'f52', 0.9999807554738431],\n",
       " ['f58', 'f62', 0.9890062472370174],\n",
       " ['f58', 'f74', 0.9999601652339931],\n",
       " ['f59', 'f45', 0.9911319425113759],\n",
       " ['f59', 'f46', 0.9082517740239067],\n",
       " ['f59', 'f49', 0.9468495345292596],\n",
       " ['f59', 'f60', 0.9186820044566724],\n",
       " ['f60', 'f14', 0.9613276847420534],\n",
       " ['f60', 'f15', 0.943575549550892],\n",
       " ['f60', 'f17', 0.9728988034525562],\n",
       " ['f60', 'f20', 0.9455918749280522],\n",
       " ['f60', 'f21', 0.9875660737406204],\n",
       " ['f60', 'f22', 0.9956499874819609],\n",
       " ['f60', 'f24', 0.9702076684053283],\n",
       " ['f60', 'f28', 0.91491980190201],\n",
       " ['f60', 'f30', 0.9261085953975067],\n",
       " ['f60', 'f45', 0.9130245039401628],\n",
       " ['f60', 'f46', 0.9892183832523103],\n",
       " ['f60', 'f50', 0.9459686903911895],\n",
       " ['f60', 'f59', 0.9186820044566724],\n",
       " ['f61', 'f47', 0.9856849551228775],\n",
       " ['f62', 'f36', 0.9889677261436355],\n",
       " ['f62', 'f42', 0.9890062472370174],\n",
       " ['f62', 'f48', 0.9997287158513097],\n",
       " ['f62', 'f52', 0.9890767122413827],\n",
       " ['f62', 'f58', 0.9890062472370174],\n",
       " ['f62', 'f74', 0.9889779000273929],\n",
       " ['f63', 'f64', 0.9156129392553163],\n",
       " ['f64', 'f32', 0.9953949682485468],\n",
       " ['f64', 'f63', 0.9156129392553163],\n",
       " ['f68', 'f13', 0.9421821915281068],\n",
       " ['f69', 'f70', 0.9394635582566432],\n",
       " ['f70', 'f69', 0.9394635582566432],\n",
       " ['f74', 'f36', 0.9999977210960375],\n",
       " ['f74', 'f42', 0.9999601652339931],\n",
       " ['f74', 'f48', 0.9885716244130747],\n",
       " ['f74', 'f52', 0.9999358333748615],\n",
       " ['f74', 'f58', 0.9999601652339931],\n",
       " ['f74', 'f62', 0.9889779000273929],\n",
       " ['f75', 'f76', 0.9083122384266441],\n",
       " ['f76', 'f75', 0.9083122384266441],\n",
       " ['f78', 'f7', 0.9881538847206764],\n",
       " ['f78', 'f79', 0.9960323704266475],\n",
       " ['f79', 'f7', 0.9754388074186067],\n",
       " ['f79', 'f78', 0.9960323704266475],\n",
       " ['f84', 'f89', 0.9038995017904177],\n",
       " ['f84', 'f90', -0.944328800845107],\n",
       " ['f84', 'f91', -0.9080083160129507],\n",
       " ['f85', 'f86', 1.0],\n",
       " ['f85', 'f87', 1.0],\n",
       " ['f85', 'f88', 1.0],\n",
       " ['f85', 'f95', 0.9772297055944413],\n",
       " ['f85', 'f96', 0.9772297055944413],\n",
       " ['f85', 'f97', 0.9772297055944413],\n",
       " ['f85', 'f98', 0.9772297055944413],\n",
       " ['f86', 'f85', 1.0],\n",
       " ['f86', 'f87', 1.0],\n",
       " ['f86', 'f88', 1.0],\n",
       " ['f86', 'f95', 0.9772297055944413],\n",
       " ['f86', 'f96', 0.9772297055944413],\n",
       " ['f86', 'f97', 0.9772297055944413],\n",
       " ['f86', 'f98', 0.9772297055944413],\n",
       " ['f87', 'f85', 1.0],\n",
       " ['f87', 'f86', 1.0],\n",
       " ['f87', 'f88', 1.0],\n",
       " ['f87', 'f95', 0.9772297055944413],\n",
       " ['f87', 'f96', 0.9772297055944413],\n",
       " ['f87', 'f97', 0.9772297055944413],\n",
       " ['f87', 'f98', 0.9772297055944413],\n",
       " ['f88', 'f85', 1.0],\n",
       " ['f88', 'f86', 1.0],\n",
       " ['f88', 'f87', 1.0],\n",
       " ['f88', 'f95', 0.9772297055944413],\n",
       " ['f88', 'f96', 0.9772297055944413],\n",
       " ['f88', 'f97', 0.9772297055944413],\n",
       " ['f88', 'f98', 0.9772297055944413],\n",
       " ['f89', 'f84', 0.9038995017904177],\n",
       " ['f89', 'f90', -0.9832602069103158],\n",
       " ['f89', 'f91', -0.9808049137859277],\n",
       " ['f90', 'f84', -0.944328800845107],\n",
       " ['f90', 'f89', -0.9832602069103158],\n",
       " ['f90', 'f91', 0.9863938022934737],\n",
       " ['f91', 'f84', -0.9080083160129507],\n",
       " ['f91', 'f89', -0.9808049137859277],\n",
       " ['f91', 'f90', 0.9863938022934737],\n",
       " ['f94', 'f100', -0.9534765906576104],\n",
       " ['f95', 'f7', 0.9519208112922621],\n",
       " ['f95', 'f85', 0.9772297055944413],\n",
       " ['f95', 'f86', 0.9772297055944413],\n",
       " ['f95', 'f87', 0.9772297055944413],\n",
       " ['f95', 'f88', 0.9772297055944413],\n",
       " ['f95', 'f96', 1.0],\n",
       " ['f95', 'f97', 1.0],\n",
       " ['f95', 'f98', 1.0],\n",
       " ['f96', 'f7', 0.9519208112922621],\n",
       " ['f96', 'f85', 0.9772297055944413],\n",
       " ['f96', 'f86', 0.9772297055944413],\n",
       " ['f96', 'f87', 0.9772297055944413],\n",
       " ['f96', 'f88', 0.9772297055944413],\n",
       " ['f96', 'f95', 1.0],\n",
       " ['f96', 'f97', 1.0],\n",
       " ['f96', 'f98', 1.0],\n",
       " ['f97', 'f7', 0.9519208112922621],\n",
       " ['f97', 'f85', 0.9772297055944413],\n",
       " ['f97', 'f86', 0.9772297055944413],\n",
       " ['f97', 'f87', 0.9772297055944413],\n",
       " ['f97', 'f88', 0.9772297055944413],\n",
       " ['f97', 'f95', 1.0],\n",
       " ['f97', 'f96', 1.0],\n",
       " ['f97', 'f98', 1.0],\n",
       " ['f98', 'f7', 0.9519208112922621],\n",
       " ['f98', 'f85', 0.9772297055944413],\n",
       " ['f98', 'f86', 0.9772297055944413],\n",
       " ['f98', 'f87', 0.9772297055944413],\n",
       " ['f98', 'f88', 0.9772297055944413],\n",
       " ['f98', 'f95', 1.0],\n",
       " ['f98', 'f96', 1.0],\n",
       " ['f98', 'f97', 1.0],\n",
       " ['f99', 'f100', -0.9859497577108258],\n",
       " ['f100', 'f94', -0.9534765906576104],\n",
       " ['f100', 'f99', -0.9859497577108258]]"
      ]
     },
     "execution_count": 224,
     "metadata": {},
     "output_type": "execute_result"
    }
   ],
   "source": [
    "# many features have correlation > 0.9!\n",
    "list_corr = []\n",
    "for row in correlation_matrix.index:\n",
    "    for col in list(correlation_matrix.columns):\n",
    "        if abs(correlation_matrix.loc[row,col]) > 0.9 and row != col:\n",
    "            list_corr.append([row,col,correlation_matrix.loc[row,col]])\n",
    "list_corr "
   ]
  },
  {
   "cell_type": "markdown",
   "id": "0b1fc601-d12d-4337-8d7a-320958626875",
   "metadata": {},
   "source": [
    "## 1-7-Balance initial data set"
   ]
  },
  {
   "cell_type": "code",
   "execution_count": 225,
   "id": "42fa34dd-e763-408f-ab00-8a686dc29ec5",
   "metadata": {},
   "outputs": [
    {
     "data": {
      "text/plain": [
       "paid        72703\n",
       "not paid     7297\n",
       "Name: target, dtype: int64"
      ]
     },
     "execution_count": 225,
     "metadata": {},
     "output_type": "execute_result"
    }
   ],
   "source": [
    "data.target.value_counts()"
   ]
  },
  {
   "cell_type": "code",
   "execution_count": 226,
   "id": "432c18c8-7f9b-42dd-890c-f36d4c774b8f",
   "metadata": {},
   "outputs": [],
   "source": [
    "# how many not paid ?\n",
    "data_not_paid = data[data['target'] == 'not paid']\n",
    "lenth_not_paid = len(data_not_paid)"
   ]
  },
  {
   "cell_type": "code",
   "execution_count": 227,
   "id": "11b39507-cba9-4875-9cba-a055895f4907",
   "metadata": {},
   "outputs": [],
   "source": [
    "# take the same number like not paid in paid\n",
    "data_paid = data[data['target'] == 'paid'].iloc[0:lenth_not_paid,:]"
   ]
  },
  {
   "cell_type": "code",
   "execution_count": 228,
   "id": "4f83a154-0353-4dc9-98e6-495fe8d566d1",
   "metadata": {},
   "outputs": [],
   "source": [
    "# connect paid/not paid and shuffle\n",
    "data_50_50 = pd.concat([data_paid, data_not_paid], ignore_index=True)\n",
    "data_50_50 = data_50_50.sample(frac=1).reset_index(drop=True)"
   ]
  },
  {
   "cell_type": "markdown",
   "id": "4ad22f8b-90a1-4025-a08a-2078aced5857",
   "metadata": {},
   "source": [
    "## 1-8-Split data"
   ]
  },
  {
   "cell_type": "code",
   "execution_count": 229,
   "id": "80114f09-81b5-427f-b08e-6e3599b5793b",
   "metadata": {},
   "outputs": [],
   "source": [
    "# split balanced data \n",
    "from sklearn.model_selection import train_test_split\n",
    "\n",
    "X_col = data.columns[0:-2]\n",
    "y_col = 'target'\n",
    "\n",
    "X = data_50_50[X_col]\n",
    "y = data_50_50[y_col]\n",
    "\n",
    "X_train, X_test, y_train, y_test = train_test_split(X, y, random_state=42)"
   ]
  },
  {
   "cell_type": "code",
   "execution_count": 230,
   "id": "988bc065-ad91-47d2-8671-bc00ede8c9c9",
   "metadata": {},
   "outputs": [],
   "source": [
    "# replace missing values with mean (from X_train) values \n",
    "from sklearn.impute import SimpleImputer\n",
    "imputer = SimpleImputer(strategy='mean')\n",
    "imputer.fit(X_train)\n",
    "\n",
    "X_train_transf = imputer.transform(X_train)\n",
    "X_test_transf = imputer.transform(X_test)\n",
    "\n",
    "# make dataframe (after splitting it is not a dataframe)\n",
    "X_train = pd.DataFrame(X_train_transf, \n",
    "                                 columns=X_train.columns,\n",
    "                                 index=X_train.index)\n",
    "X_test = pd.DataFrame(X_test_transf, \n",
    "                                 columns=X_test.columns,\n",
    "                                 index=X_test.index)"
   ]
  },
  {
   "cell_type": "markdown",
   "id": "c852f301-19f4-43a4-a75f-01d69c37ec8e",
   "metadata": {},
   "source": [
    "## 1-9-Normalize data"
   ]
  },
  {
   "cell_type": "code",
   "execution_count": 231,
   "id": "03a7afcf-0099-4caa-92de-b0074ae1e464",
   "metadata": {},
   "outputs": [],
   "source": [
    "# min an max scaling\n",
    "from sklearn.preprocessing import MinMaxScaler\n",
    "scaler = MinMaxScaler(feature_range=(0,1))\n",
    "scaler.fit(X_train)\n",
    "\n",
    "X_train_sc = pd.DataFrame(scaler.transform(X_train))\n",
    "X_train_sc.columns = X_train.columns\n",
    "\n",
    "X_test_sc = pd.DataFrame(scaler.transform(X_test))\n",
    "X_test_sc.columns = X_test.columns"
   ]
  },
  {
   "cell_type": "code",
   "execution_count": null,
   "id": "156c5497-ff7d-4a9b-b4b7-df1c545088bb",
   "metadata": {},
   "outputs": [],
   "source": []
  },
  {
   "cell_type": "markdown",
   "id": "727cac66-2743-42b2-9d2e-c1aed74f158f",
   "metadata": {},
   "source": [
    "# 2-Applying models"
   ]
  },
  {
   "cell_type": "markdown",
   "id": "9d1e7cb4-55e0-473b-9e26-237597aa7bd5",
   "metadata": {},
   "source": [
    "## 2-0-Function: model_check()"
   ]
  },
  {
   "cell_type": "code",
   "execution_count": null,
   "id": "773a106c-c97f-4023-97a5-b8d0c40aadf7",
   "metadata": {},
   "outputs": [],
   "source": [
    "# create a function to check the metrics\n",
    "from sklearn.metrics import accuracy_score, confusion_matrix, recall_score\n",
    "\n",
    "def model_check(y_true, y_pred, model): \n",
    "    acc_sc = accuracy_score(y_true, y_pred)\n",
    "    #recall_sc= recall_score(y_true, y_pred)\n",
    "    conf_matrix = pd.DataFrame(confusion_matrix(y_true, y_pred))\n",
    "    conf_matrix.set_index(model.classes_, inplace=True)\n",
    "    conf_matrix.columns = model.classes_\n",
    "    return conf_matrix, acc_sc"
   ]
  },
  {
   "cell_type": "markdown",
   "id": "e27686fc-5719-4e8c-aa68-1d157910db31",
   "metadata": {},
   "source": [
    "## 2-1-Decision tree"
   ]
  },
  {
   "cell_type": "markdown",
   "id": "e64ae0cd-8884-41b2-a48f-4b59b75e008b",
   "metadata": {},
   "source": [
    "### 2-1-1-Modell"
   ]
  },
  {
   "cell_type": "code",
   "execution_count": 233,
   "id": "746ce3b7-273a-4c30-8d88-d42e08b22f5e",
   "metadata": {
    "tags": []
   },
   "outputs": [
    {
     "data": {
      "text/plain": [
       "DecisionTreeClassifier(max_depth=5)"
      ]
     },
     "execution_count": 233,
     "metadata": {},
     "output_type": "execute_result"
    }
   ],
   "source": [
    "from sklearn.tree import DecisionTreeClassifier\n",
    "tree = DecisionTreeClassifier(max_depth=5)\n",
    "tree.fit(X_train, y_train)"
   ]
  },
  {
   "cell_type": "code",
   "execution_count": 234,
   "id": "32fb4623-4a0d-47c4-ab25-3e47154152dc",
   "metadata": {},
   "outputs": [
    {
     "data": {
      "text/plain": [
       "(          not paid  paid\n",
       " not paid      3237  2235\n",
       " paid           844  4629,\n",
       " 0.7186843307446322)"
      ]
     },
     "execution_count": 234,
     "metadata": {},
     "output_type": "execute_result"
    }
   ],
   "source": [
    "# train\n",
    "model_check(y_train, tree.predict(X_train), tree)"
   ]
  },
  {
   "cell_type": "code",
   "execution_count": 235,
   "id": "7f7e3ca8-09f7-4789-b41e-e7582b8adcd0",
   "metadata": {},
   "outputs": [
    {
     "data": {
      "text/plain": [
       "(          not paid  paid\n",
       " not paid      1023   802\n",
       " paid           338  1486,\n",
       " 0.6875856399013428)"
      ]
     },
     "execution_count": 235,
     "metadata": {},
     "output_type": "execute_result"
    }
   ],
   "source": [
    "# test\n",
    "model_check(y_test, tree.predict(X_test), tree)"
   ]
  },
  {
   "cell_type": "markdown",
   "id": "a65294e6-1f17-4c36-8180-d891342bd7fa",
   "metadata": {},
   "source": [
    "### 2-1-2-Modell with normalization"
   ]
  },
  {
   "cell_type": "code",
   "execution_count": 236,
   "id": "4f50f65f-29c0-40d3-b902-1c3ca90e1077",
   "metadata": {},
   "outputs": [
    {
     "data": {
      "text/plain": [
       "(          not paid  paid\n",
       " not paid      3237  2235\n",
       " paid           844  4629,\n",
       " 0.7186843307446322)"
      ]
     },
     "execution_count": 236,
     "metadata": {},
     "output_type": "execute_result"
    }
   ],
   "source": [
    "tree.fit(X_train_sc, y_train)\n",
    "model_check(y_train, tree.predict(X_train_sc), tree)"
   ]
  },
  {
   "cell_type": "code",
   "execution_count": 237,
   "id": "e4083f73-7264-406a-9cd7-89e1a0eebb3c",
   "metadata": {},
   "outputs": [
    {
     "data": {
      "text/plain": [
       "(          not paid  paid\n",
       " not paid      1025   800\n",
       " paid           339  1485,\n",
       " 0.6878596875856399)"
      ]
     },
     "execution_count": 237,
     "metadata": {},
     "output_type": "execute_result"
    }
   ],
   "source": [
    "model_check(y_test, tree.predict(X_test_sc), tree)"
   ]
  },
  {
   "cell_type": "markdown",
   "id": "9ba55dcd-5ddd-4537-ade2-c686b3e8a24e",
   "metadata": {},
   "source": [
    "### 2-1-3-Accuracy/depth"
   ]
  },
  {
   "cell_type": "code",
   "execution_count": 274,
   "id": "7eadcc14-5b5d-4414-8ec2-8e601cd1ee4b",
   "metadata": {},
   "outputs": [],
   "source": [
    "# trying different depths\n",
    "accuracy_depth_test = {}\n",
    "accuracy_depth_train = {}\n",
    "for i in range(2,16):\n",
    "    tree = DecisionTreeClassifier(max_depth=i)\n",
    "    tree.fit(X_train, y_train)\n",
    "    conf_matrix_tr, acc_sc_tr = model_check(y_train, tree.predict(X_train), tree)\n",
    "    conf_matrix_test, acc_sc_test = model_check(y_test, tree.predict(X_test), tree)\n",
    "    accuracy_depth_test[i] = acc_sc_test\n",
    "    accuracy_depth_train[i] = acc_sc_tr"
   ]
  },
  {
   "cell_type": "code",
   "execution_count": 275,
   "id": "d0dcdc9c-437c-4c21-9075-1058662d7c56",
   "metadata": {},
   "outputs": [
    {
     "data": {
      "image/png": "[encoded data removed]",
      "text/plain": [
       "<Figure size 432x288 with 1 Axes>"
      ]
     },
     "metadata": {
      "needs_background": "light"
     },
     "output_type": "display_data"
    }
   ],
   "source": [
    "import matplotlib.pyplot as plt\n",
    "x = accuracy_depth_test.keys()\n",
    "y1 = accuracy_depth_test.values()\n",
    "y2 = accuracy_depth_train.values()\n",
    "plt.title(\"accuracy/depth\")\n",
    "plt.xlabel(\"depth\")\n",
    "plt.ylabel(\"accuracy\")\n",
    "plt.plot(x,y1, c = \"g\", marker = \"o\",label=\"test\")\n",
    "plt.plot(x,y2, c = \"k\", marker = \"o\",label=\"train\")\n",
    "plt.legend(bbox_to_anchor=(1.05, 1), loc='upper left', borderaxespad=0.)\n",
    "plt.show()"
   ]
  },
  {
   "cell_type": "code",
   "execution_count": 276,
   "id": "784884fa-1794-403d-83a9-0b0015e2bfc8",
   "metadata": {},
   "outputs": [
    {
     "data": {
      "text/plain": [
       "{2: 0.6771718278980543,\n",
       " 3: 0.6807344477939161,\n",
       " 4: 0.6823787338996985,\n",
       " 5: 0.6881337352699369,\n",
       " 6: 0.6966292134831461,\n",
       " 7: 0.696355165798849,\n",
       " 8: 0.6941627843244724,\n",
       " 9: 0.6941627843244724,\n",
       " 10: 0.6799123047410249,\n",
       " 11: 0.6744313510550836,\n",
       " 12: 0.6747053987393806,\n",
       " 13: 0.6640175390517951,\n",
       " 14: 0.6585365853658537,\n",
       " 15: 0.6536037270485064}"
      ]
     },
     "execution_count": 276,
     "metadata": {},
     "output_type": "execute_result"
    }
   ],
   "source": [
    "accuracy_depth_test"
   ]
  },
  {
   "cell_type": "code",
   "execution_count": null,
   "id": "d3345466-9c14-4311-a90d-468ee173cad8",
   "metadata": {},
   "outputs": [],
   "source": []
  },
  {
   "cell_type": "markdown",
   "id": "aed0b036-c91e-47d1-a15c-fc8e906754a6",
   "metadata": {},
   "source": [
    "## 2-2-KNN - K Nearest Neighbors"
   ]
  },
  {
   "cell_type": "markdown",
   "id": "7035d56f-d462-469e-b6a6-4b709512c187",
   "metadata": {},
   "source": [
    "### 2-2-1-Modell"
   ]
  },
  {
   "cell_type": "code",
   "execution_count": 240,
   "id": "d84d76c8-73b4-4920-83aa-f88daad0f155",
   "metadata": {},
   "outputs": [
    {
     "data": {
      "text/plain": [
       "KNeighborsClassifier(n_neighbors=10)"
      ]
     },
     "execution_count": 240,
     "metadata": {},
     "output_type": "execute_result"
    }
   ],
   "source": [
    "from sklearn.neighbors import KNeighborsClassifier\n",
    "\n",
    "knn = KNeighborsClassifier(n_neighbors=10)\n",
    "\n",
    "knn.fit(X_train, y_train)"
   ]
  },
  {
   "cell_type": "code",
   "execution_count": 241,
   "id": "8ed0451f-4d0d-4c6d-8cec-18a973cd4e74",
   "metadata": {},
   "outputs": [
    {
     "data": {
      "text/plain": [
       "(          not paid  paid\n",
       " not paid      4129  1343\n",
       " paid          2452  3021,\n",
       " 0.6532663316582915)"
      ]
     },
     "execution_count": 241,
     "metadata": {},
     "output_type": "execute_result"
    }
   ],
   "source": [
    "# train \n",
    "model_check(y_train, knn.predict(X_train), knn)"
   ]
  },
  {
   "cell_type": "code",
   "execution_count": 242,
   "id": "69bc1632-8987-4b80-ba67-1833f3e99199",
   "metadata": {},
   "outputs": [
    {
     "data": {
      "text/plain": [
       "(          not paid  paid\n",
       " not paid      1146   679\n",
       " paid           992   832,\n",
       " 0.5420663195395999)"
      ]
     },
     "execution_count": 242,
     "metadata": {},
     "output_type": "execute_result"
    }
   ],
   "source": [
    "# test\n",
    "model_check(y_test, knn.predict(X_test), knn)"
   ]
  },
  {
   "cell_type": "markdown",
   "id": "6057ffcf-439f-4e34-9602-b873c52d0dec",
   "metadata": {},
   "source": [
    "### 2-2-2-Modell with normalization+"
   ]
  },
  {
   "cell_type": "code",
   "execution_count": 243,
   "id": "cbdb82f5-0b54-471c-b444-cbd4a4610194",
   "metadata": {},
   "outputs": [
    {
     "data": {
      "text/plain": [
       "(          not paid  paid\n",
       " not paid      4224  1248\n",
       " paid          1560  3913,\n",
       " 0.7434444952032891)"
      ]
     },
     "execution_count": 243,
     "metadata": {},
     "output_type": "execute_result"
    }
   ],
   "source": [
    "knn.fit(X_train_sc, y_train)\n",
    "model_check(y_train, knn.predict(X_train_sc), knn)"
   ]
  },
  {
   "cell_type": "code",
   "execution_count": 244,
   "id": "47e058f4-bbbf-490d-b1b1-749af607dbed",
   "metadata": {},
   "outputs": [
    {
     "data": {
      "text/plain": [
       "(          not paid  paid\n",
       " not paid      1261   564\n",
       " paid           656  1168,\n",
       " 0.6656618251575774)"
      ]
     },
     "execution_count": 244,
     "metadata": {},
     "output_type": "execute_result"
    }
   ],
   "source": [
    "model_check(y_test, knn.predict(X_test_sc), knn)"
   ]
  },
  {
   "cell_type": "code",
   "execution_count": null,
   "id": "895d9725-d142-4965-8632-59e3c1919048",
   "metadata": {},
   "outputs": [],
   "source": []
  },
  {
   "cell_type": "markdown",
   "id": "8c8e66b7-f8b7-4b5d-8eee-96e6b9166eef",
   "metadata": {},
   "source": [
    "### 2-2-3-Accuracy/number of neighbors"
   ]
  },
  {
   "cell_type": "code",
   "execution_count": 245,
   "id": "d44e78aa-d146-45e0-af68-8521446c469f",
   "metadata": {},
   "outputs": [],
   "source": [
    "# trying different number of neighbors\n",
    "# trying different depths\n",
    "accuracy_neighbor_test = {}\n",
    "accuracy_neighbor_train = {}\n",
    "for i in range(2,15):\n",
    "    knn = KNeighborsClassifier(n_neighbors=i)\n",
    "    knn.fit(X_train, y_train)\n",
    "    conf_matrix_tr, acc_sc_tr = model_check(y_train, knn.predict(X_train), knn)\n",
    "    conf_matrix_test, acc_sc_test = model_check(y_test, knn.predict(X_test), knn)\n",
    "    accuracy_neighbor_test[i] = acc_sc_test\n",
    "    accuracy_neighbor_train[i] = acc_sc_tr"
   ]
  },
  {
   "cell_type": "code",
   "execution_count": 246,
   "id": "f72ad5bb-d50b-4890-91ab-ef318a50b1ad",
   "metadata": {},
   "outputs": [
    {
     "data": {
      "image/png": "[encoded data removed]",
      "text/plain": [
       "<Figure size 432x288 with 1 Axes>"
      ]
     },
     "metadata": {
      "needs_background": "light"
     },
     "output_type": "display_data"
    }
   ],
   "source": [
    "import matplotlib.pyplot as plt\n",
    "x = accuracy_neighbor_test.keys()\n",
    "y1 = accuracy_neighbor_test.values()\n",
    "y2 = accuracy_neighbor_train.values()\n",
    "\n",
    "plt.title(\"accuracy/neighbors\")\n",
    "plt.xlabel(\"neighbors\")\n",
    "plt.ylabel(\"accuracy\")\n",
    "plt.plot(x,y1, c = \"g\", marker = \"o\",label=\"test\")\n",
    "plt.plot(x,y2, c = \"k\", marker = \"o\",label=\"train\")\n",
    "plt.legend(bbox_to_anchor=(1.05, 1), loc='upper left', borderaxespad=0.)\n",
    "plt.show()"
   ]
  },
  {
   "cell_type": "code",
   "execution_count": 272,
   "id": "c304455e-ccb9-4411-ba70-f0cf5cbf67f8",
   "metadata": {},
   "outputs": [
    {
     "data": {
      "text/plain": [
       "{2: 0.5190463140586462,\n",
       " 3: 0.5437106056453823,\n",
       " 4: 0.5313784598520143,\n",
       " 5: 0.5406960811181145,\n",
       " 6: 0.5409701288024116,\n",
       " 7: 0.5426144149081941,\n",
       " 8: 0.5406960811181145,\n",
       " 9: 0.5374075089065498,\n",
       " 10: 0.5420663195395999,\n",
       " 11: 0.5395998903809263,\n",
       " 12: 0.5360372704850644,\n",
       " 13: 0.5412441764867086,\n",
       " 14: 0.5374075089065498}"
      ]
     },
     "execution_count": 272,
     "metadata": {},
     "output_type": "execute_result"
    }
   ],
   "source": [
    "accuracy_neighbor_test"
   ]
  },
  {
   "cell_type": "markdown",
   "id": "46a7baa6-46e2-4bcb-90fb-90894295e078",
   "metadata": {},
   "source": [
    "## 2-3-Logistic regression"
   ]
  },
  {
   "cell_type": "markdown",
   "id": "7c945bf0-d10f-418b-a9d0-1f4d012ac529",
   "metadata": {},
   "source": [
    "### 2-3-1-Modell"
   ]
  },
  {
   "cell_type": "code",
   "execution_count": 248,
   "id": "43741dd6-1240-4449-966c-02758a6c5cbb",
   "metadata": {},
   "outputs": [],
   "source": [
    "from sklearn.linear_model import LogisticRegression"
   ]
  },
  {
   "cell_type": "code",
   "execution_count": 249,
   "id": "9fca7782-1173-41fc-91cc-e77a61de1e6c",
   "metadata": {},
   "outputs": [
    {
     "data": {
      "text/plain": [
       "LogisticRegression()"
      ]
     },
     "execution_count": 249,
     "metadata": {},
     "output_type": "execute_result"
    }
   ],
   "source": [
    "lg = LogisticRegression()\n",
    "# Error while inserting scaled data\n",
    "lg.fit(X_train, y_train)"
   ]
  },
  {
   "cell_type": "code",
   "execution_count": 250,
   "id": "c0dc8203-2a58-4342-9cf6-a13df51bf4a0",
   "metadata": {},
   "outputs": [
    {
     "data": {
      "text/plain": [
       "(          not paid  paid\n",
       " not paid      3135  2337\n",
       " paid          2535  2938,\n",
       " 0.5548652352672453)"
      ]
     },
     "execution_count": 250,
     "metadata": {},
     "output_type": "execute_result"
    }
   ],
   "source": [
    "# train\n",
    "model_check(y_train, lg.predict(X_train), lg)"
   ]
  },
  {
   "cell_type": "code",
   "execution_count": 251,
   "id": "bdcbe94d-868d-4887-b82c-7c7d0b92850a",
   "metadata": {},
   "outputs": [
    {
     "data": {
      "text/plain": [
       "(          not paid  paid\n",
       " not paid      1017   808\n",
       " paid           923   901,\n",
       " 0.5256234584817758)"
      ]
     },
     "execution_count": 251,
     "metadata": {},
     "output_type": "execute_result"
    }
   ],
   "source": [
    "# test\n",
    "model_check(y_test, lg.predict(X_test), lg)"
   ]
  },
  {
   "cell_type": "markdown",
   "id": "69aac988-6453-43dc-8eaf-8be769b4c5e2",
   "metadata": {},
   "source": [
    "### 2-3-2-Modell with normalization+"
   ]
  },
  {
   "cell_type": "code",
   "execution_count": 252,
   "id": "515c5f67-7dc0-4623-93ec-13c31440953f",
   "metadata": {},
   "outputs": [],
   "source": [
    "# repeat with scaled data!"
   ]
  },
  {
   "cell_type": "code",
   "execution_count": 253,
   "id": "cbd74061-5b47-4ef1-b9d3-7c12242efdcc",
   "metadata": {},
   "outputs": [
    {
     "name": "stderr",
     "output_type": "stream",
     "text": [
      "C:\\Users\\vital\\anaconda3\\lib\\site-packages\\sklearn\\linear_model\\_logistic.py:763: ConvergenceWarning: lbfgs failed to converge (status=1):\n",
      "STOP: TOTAL NO. of ITERATIONS REACHED LIMIT.\n",
      "\n",
      "Increase the number of iterations (max_iter) or scale the data as shown in:\n",
      "    https://scikit-learn.org/stable/modules/preprocessing.html\n",
      "Please also refer to the documentation for alternative solver options:\n",
      "    https://scikit-learn.org/stable/modules/linear_model.html#logistic-regression\n",
      "  n_iter_i = _check_optimize_result(\n"
     ]
    },
    {
     "data": {
      "text/plain": [
       "(          not paid  paid\n",
       " not paid      3749  1723\n",
       " paid          1371  4102,\n",
       " 0.7173138419369575)"
      ]
     },
     "execution_count": 253,
     "metadata": {},
     "output_type": "execute_result"
    }
   ],
   "source": [
    "lg.fit(X_train_sc, y_train)\n",
    "model_check(y_train, lg.predict(X_train_sc), lg)"
   ]
  },
  {
   "cell_type": "code",
   "execution_count": 254,
   "id": "ca651748-5c5f-4b42-98c6-f05dc36a53ab",
   "metadata": {},
   "outputs": [
    {
     "data": {
      "text/plain": [
       "(          not paid  paid\n",
       " not paid      1214   611\n",
       " paid           467  1357,\n",
       " 0.704576596327761)"
      ]
     },
     "execution_count": 254,
     "metadata": {},
     "output_type": "execute_result"
    }
   ],
   "source": [
    "model_check(y_test, lg.predict(X_test_sc), lg)"
   ]
  },
  {
   "cell_type": "markdown",
   "id": "b29474d2-e821-40b3-9797-e6554b68f925",
   "metadata": {},
   "source": [
    "## 2-4-Random Forest"
   ]
  },
  {
   "cell_type": "markdown",
   "id": "e1bb25f4-0066-4d65-b81f-5c41f4c0f903",
   "metadata": {},
   "source": [
    "### 2-4-1-Modell"
   ]
  },
  {
   "cell_type": "code",
   "execution_count": 255,
   "id": "282233a8-5e4b-4e0f-bf5f-09e6f2245f95",
   "metadata": {},
   "outputs": [],
   "source": [
    "from sklearn.ensemble import RandomForestClassifier"
   ]
  },
  {
   "cell_type": "code",
   "execution_count": 256,
   "id": "bf224889-0211-4cca-8409-4cdfc10e6e76",
   "metadata": {},
   "outputs": [],
   "source": [
    "rf = RandomForestClassifier(max_depth=6, random_state=42)"
   ]
  },
  {
   "cell_type": "code",
   "execution_count": 257,
   "id": "25ef9606-9e03-45f5-9a6a-3e011a0ef90d",
   "metadata": {},
   "outputs": [
    {
     "data": {
      "text/plain": [
       "RandomForestClassifier(max_depth=6, random_state=42)"
      ]
     },
     "execution_count": 257,
     "metadata": {},
     "output_type": "execute_result"
    }
   ],
   "source": [
    "rf.fit(X_train, y_train)"
   ]
  },
  {
   "cell_type": "code",
   "execution_count": 258,
   "id": "0abad555-1d69-4355-ad6f-0445c8b4dfe2",
   "metadata": {},
   "outputs": [
    {
     "data": {
      "text/plain": [
       "(          not paid  paid\n",
       " not paid      3995  1477\n",
       " paid          1252  4221,\n",
       " 0.7506624029237094)"
      ]
     },
     "execution_count": 258,
     "metadata": {},
     "output_type": "execute_result"
    }
   ],
   "source": [
    "# train\n",
    "model_check(y_train, rf.predict(X_train), rf)"
   ]
  },
  {
   "cell_type": "code",
   "execution_count": 259,
   "id": "76f7e848-2a15-4672-9922-d4282720f837",
   "metadata": {},
   "outputs": [
    {
     "data": {
      "text/plain": [
       "(          not paid  paid\n",
       " not paid      1247   578\n",
       " paid           522  1302,\n",
       " 0.6985475472732255)"
      ]
     },
     "execution_count": 259,
     "metadata": {},
     "output_type": "execute_result"
    }
   ],
   "source": [
    "# test\n",
    "model_check(y_test, rf.predict(X_test), rf)"
   ]
  },
  {
   "cell_type": "markdown",
   "id": "eaf7732f-2fea-4afe-8661-d55dfbf61c80",
   "metadata": {},
   "source": [
    "### 2-4-2-Modell with normalization"
   ]
  },
  {
   "cell_type": "code",
   "execution_count": 260,
   "id": "21bb5f2a-7451-4398-9568-a367fc99f6fc",
   "metadata": {},
   "outputs": [],
   "source": [
    "# repeat with normalization"
   ]
  },
  {
   "cell_type": "code",
   "execution_count": 261,
   "id": "5964d71a-ed9a-47ad-b449-e6b51c021ef7",
   "metadata": {},
   "outputs": [
    {
     "data": {
      "text/plain": [
       "(          not paid  paid\n",
       " not paid      3995  1477\n",
       " paid          1252  4221,\n",
       " 0.7506624029237094)"
      ]
     },
     "execution_count": 261,
     "metadata": {},
     "output_type": "execute_result"
    }
   ],
   "source": [
    "rf.fit(X_train_sc, y_train)\n",
    "model_check(y_train, rf.predict(X_train_sc), rf)"
   ]
  },
  {
   "cell_type": "code",
   "execution_count": 262,
   "id": "b3f92a9a-3085-4d61-bd91-16cb4d546ef3",
   "metadata": {},
   "outputs": [
    {
     "data": {
      "text/plain": [
       "(          not paid  paid\n",
       " not paid      1247   578\n",
       " paid           522  1302,\n",
       " 0.6985475472732255)"
      ]
     },
     "execution_count": 262,
     "metadata": {},
     "output_type": "execute_result"
    }
   ],
   "source": [
    "model_check(y_test, rf.predict(X_test_sc), rf)"
   ]
  },
  {
   "cell_type": "markdown",
   "id": "1fb4537c-beed-410c-b189-8b441972064b",
   "metadata": {},
   "source": [
    "### 2-4-3-Accuracy/depth"
   ]
  },
  {
   "cell_type": "code",
   "execution_count": 277,
   "id": "1e7964cf-96dd-4c67-9ea4-c61f22d2efe9",
   "metadata": {},
   "outputs": [],
   "source": [
    "# trying different depths\n",
    "accuracy_depth_test = {}\n",
    "accuracy_depth_train = {}\n",
    "for i in range(2,15):\n",
    "    rf = RandomForestClassifier(max_depth=i, random_state=42)\n",
    "    rf.fit(X_train, y_train)\n",
    "    conf_matrix_tr, acc_sc_tr = model_check(y_train, rf.predict(X_train), rf)\n",
    "    conf_matrix_test, acc_sc_test = model_check(y_test, rf.predict(X_test), rf)\n",
    "    accuracy_depth_test[i] = acc_sc_test\n",
    "    accuracy_depth_train[i] = acc_sc_tr"
   ]
  },
  {
   "cell_type": "code",
   "execution_count": 278,
   "id": "5860d4ea-d8f8-43d8-b8a1-ddd633671d13",
   "metadata": {},
   "outputs": [
    {
     "data": {
      "image/png": "[encoded data removed]",
      "text/plain": [
       "<Figure size 432x288 with 1 Axes>"
      ]
     },
     "metadata": {
      "needs_background": "light"
     },
     "output_type": "display_data"
    }
   ],
   "source": [
    "import matplotlib.pyplot as plt\n",
    "x = accuracy_depth_test.keys()\n",
    "y1 = accuracy_depth_test.values()\n",
    "y2 = accuracy_depth_train.values()\n",
    "plt.title(\"accuracy/depth\")\n",
    "plt.xlabel(\"depth\")\n",
    "plt.ylabel(\"accuracy\")\n",
    "plt.plot(x,y1, c = \"g\", marker = \"o\",label=\"test\")\n",
    "plt.plot(x,y2, c = \"k\", marker = \"o\",label=\"train\")\n",
    "plt.legend(bbox_to_anchor=(1.05, 1), loc='upper left', borderaxespad=0.)\n",
    "plt.show()"
   ]
  },
  {
   "cell_type": "code",
   "execution_count": 279,
   "id": "b39bfcd8-1a57-4d5b-b092-aa1ed7906859",
   "metadata": {},
   "outputs": [
    {
     "data": {
      "text/plain": [
       "{2: 0.6423677719923266,\n",
       " 3: 0.6607289668402302,\n",
       " 4: 0.6697725404220334,\n",
       " 5: 0.6867634968484516,\n",
       " 6: 0.6985475472732255,\n",
       " 7: 0.7051246916963552,\n",
       " 8: 0.7144423129624554,\n",
       " 9: 0.7182789805426144,\n",
       " 10: 0.724856124965744,\n",
       " 11: 0.7278706494930118,\n",
       " 12: 0.7322554124417648,\n",
       " 13: 0.7295149355987942,\n",
       " 14: 0.7322554124417648}"
      ]
     },
     "execution_count": 279,
     "metadata": {},
     "output_type": "execute_result"
    }
   ],
   "source": [
    "accuracy_depth_test"
   ]
  },
  {
   "cell_type": "markdown",
   "id": "1a1db457-4d9e-431d-a245-8c45962bf5b8",
   "metadata": {},
   "source": [
    "## 2-5-Support Vector Machine"
   ]
  },
  {
   "cell_type": "markdown",
   "id": "a47d771d-ddec-4d12-b300-89b1833cdce7",
   "metadata": {},
   "source": [
    "### 2-5-1-Modell"
   ]
  },
  {
   "cell_type": "code",
   "execution_count": 265,
   "id": "d1a43ec2-4510-4a30-b3c5-8e7f43aa4960",
   "metadata": {},
   "outputs": [],
   "source": [
    "from sklearn.svm import SVC"
   ]
  },
  {
   "cell_type": "code",
   "execution_count": 266,
   "id": "6154b054-a67e-4938-b8fb-ad63518cd927",
   "metadata": {},
   "outputs": [],
   "source": [
    "svm = SVC(probability=True)"
   ]
  },
  {
   "cell_type": "code",
   "execution_count": 267,
   "id": "c1ebb2ca-6246-4d2b-b7b5-fb17c16d1a09",
   "metadata": {},
   "outputs": [
    {
     "data": {
      "text/plain": [
       "SVC(probability=True)"
      ]
     },
     "execution_count": 267,
     "metadata": {},
     "output_type": "execute_result"
    }
   ],
   "source": [
    "svm.fit(X_train, y_train)"
   ]
  },
  {
   "cell_type": "code",
   "execution_count": 268,
   "id": "4e19ecd8-5de1-462e-979b-58407edd55bb",
   "metadata": {},
   "outputs": [
    {
     "data": {
      "text/plain": [
       "(          not paid  paid\n",
       " not paid      2271  3201\n",
       " paid          1389  4084,\n",
       " 0.5806304248515304)"
      ]
     },
     "execution_count": 268,
     "metadata": {},
     "output_type": "execute_result"
    }
   ],
   "source": [
    "# train\n",
    "model_check(y_train, svm.predict(X_train), svm)"
   ]
  },
  {
   "cell_type": "code",
   "execution_count": 269,
   "id": "20754515-6167-4689-ab61-25fefc0b295b",
   "metadata": {},
   "outputs": [
    {
     "data": {
      "text/plain": [
       "(          not paid  paid\n",
       " not paid       701  1124\n",
       " paid           519  1305,\n",
       " 0.5497396546999178)"
      ]
     },
     "execution_count": 269,
     "metadata": {},
     "output_type": "execute_result"
    }
   ],
   "source": [
    "# test\n",
    "model_check(y_test, svm.predict(X_test), svm)"
   ]
  },
  {
   "cell_type": "markdown",
   "id": "0d21ebd4-0b02-4feb-a2ec-8207a8b15d89",
   "metadata": {},
   "source": [
    "### 2-5-2-Modell with normalization+"
   ]
  },
  {
   "cell_type": "code",
   "execution_count": 270,
   "id": "30be0aee-a52e-4442-849f-440d319e8d3b",
   "metadata": {},
   "outputs": [
    {
     "data": {
      "text/plain": [
       "(          not paid  paid\n",
       " not paid      3532  1940\n",
       " paid          1090  4383,\n",
       " 0.7231612608497031)"
      ]
     },
     "execution_count": 270,
     "metadata": {},
     "output_type": "execute_result"
    }
   ],
   "source": [
    "svm.fit(X_train_sc, y_train)\n",
    "model_check(y_train, svm.predict(X_train_sc), svm)"
   ]
  },
  {
   "cell_type": "code",
   "execution_count": 271,
   "id": "da9132fe-cb02-44b5-aec8-bada4ae0a363",
   "metadata": {},
   "outputs": [
    {
     "data": {
      "text/plain": [
       "(          not paid  paid\n",
       " not paid      1115   710\n",
       " paid           390  1434,\n",
       " 0.6985475472732255)"
      ]
     },
     "execution_count": 271,
     "metadata": {},
     "output_type": "execute_result"
    }
   ],
   "source": [
    "# test\n",
    "model_check(y_test, svm.predict(X_test_sc), svm)"
   ]
  },
  {
   "cell_type": "code",
   "execution_count": null,
   "id": "e1d30a39-c04d-46d7-99bf-9c221a2838c1",
   "metadata": {},
   "outputs": [],
   "source": []
  }
 ],
 "metadata": {
  "kernelspec": {
   "display_name": "Python 3",
   "language": "python",
   "name": "python3"
  },
  "language_info": {
   "codemirror_mode": {
    "name": "ipython",
    "version": 3
   },
   "file_extension": ".py",
   "mimetype": "text/x-python",
   "name": "python",
   "nbconvert_exporter": "python",
   "pygments_lexer": "ipython3",
   "version": "3.8.8"
  }
 },
 "nbformat": 4,
 "nbformat_minor": 5
}
